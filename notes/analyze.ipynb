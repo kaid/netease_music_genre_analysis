{
 "cells": [
  {
   "cell_type": "code",
   "execution_count": 2,
   "metadata": {},
   "outputs": [],
   "source": [
    "import polars as pl"
   ]
  },
  {
   "cell_type": "code",
   "execution_count": 3,
   "metadata": {},
   "outputs": [
    {
     "data": {
      "text/html": [
       "<div><style>\n",
       ".dataframe > thead > tr,\n",
       ".dataframe > tbody > tr {\n",
       "  text-align: right;\n",
       "  white-space: pre-wrap;\n",
       "}\n",
       "</style>\n",
       "<small>shape: (8_400, 8)</small><table border=\"1\" class=\"dataframe\"><thead><tr><th>playlist_name</th><th>playlist_id</th><th>comment_count</th><th>share_count</th><th>subscribed_count</th><th>categories</th><th>play_count</th><th>track_count</th></tr><tr><td>str</td><td>i64</td><td>i64</td><td>i64</td><td>i64</td><td>str</td><td>i64</td><td>i64</td></tr></thead><tbody><tr><td>&quot;2010s Rock | 在摇滚的浪潮中尽情狂欢&quot;</td><td>8805216200</td><td>1</td><td>0</td><td>167</td><td>&quot;摇滚&quot;</td><td>59270</td><td>100</td></tr><tr><td>&quot;快乐到底 | 在欢快的华语节奏中让快乐DNA动起来&quot;</td><td>8170169684</td><td>31</td><td>102</td><td>9877</td><td>&quot;摇滚&quot;</td><td>2073485</td><td>60</td></tr><tr><td>&quot;她力量 | 手握麦克风的她们势不可挡&quot;</td><td>7461646215</td><td>46</td><td>65</td><td>5326</td><td>&quot;摇滚&quot;</td><td>1700565</td><td>110</td></tr><tr><td>&quot;Alt Japan | 国际视野与霓虹特色的碰撞融合&quot;</td><td>12589725642</td><td>0</td><td>0</td><td>26</td><td>&quot;摇滚&quot;</td><td>3268</td><td>100</td></tr><tr><td>&quot;朋克摇滚 | 简单直接的原始呐喊&quot;</td><td>5461490058</td><td>48</td><td>118</td><td>13647</td><td>&quot;摇滚&quot;</td><td>2703581</td><td>76</td></tr><tr><td>&hellip;</td><td>&hellip;</td><td>&hellip;</td><td>&hellip;</td><td>&hellip;</td><td>&hellip;</td><td>&hellip;</td><td>&hellip;</td></tr><tr><td>&quot;【女声电音】甜蜜与动感的美妙律动&quot;</td><td>2220502985</td><td>481</td><td>1029</td><td>64684</td><td>&quot;电子&quot;</td><td>5120394</td><td>175</td></tr><tr><td>&quot;文科生背书复习抖腿专用bgm&quot;</td><td>483828119</td><td>379</td><td>363</td><td>14533</td><td>&quot;电子&quot;</td><td>1099328</td><td>96</td></tr><tr><td>&quot;跑步专用歌单，保证步频180+&quot;</td><td>422367760</td><td>21</td><td>42</td><td>2738</td><td>&quot;电子&quot;</td><td>245560</td><td>142</td></tr><tr><td>&quot;车载DJ|出行路上一路解乏&quot;</td><td>12541623229</td><td>0</td><td>0</td><td>128</td><td>&quot;电子&quot;</td><td>25946</td><td>132</td></tr><tr><td>&quot;走秀T台音乐|高级卡点 走出态度&quot;</td><td>3073390684</td><td>0</td><td>3</td><td>320</td><td>&quot;电子&quot;</td><td>46942</td><td>89</td></tr></tbody></table></div>"
      ],
      "text/plain": [
       "shape: (8_400, 8)\n",
       "┌────────────┬────────────┬────────────┬───────────┬───────────┬───────────┬───────────┬───────────┐\n",
       "│ playlist_n ┆ playlist_i ┆ comment_co ┆ share_cou ┆ subscribe ┆ categorie ┆ play_coun ┆ track_cou │\n",
       "│ ame        ┆ d          ┆ unt        ┆ nt        ┆ d_count   ┆ s         ┆ t         ┆ nt        │\n",
       "│ ---        ┆ ---        ┆ ---        ┆ ---       ┆ ---       ┆ ---       ┆ ---       ┆ ---       │\n",
       "│ str        ┆ i64        ┆ i64        ┆ i64       ┆ i64       ┆ str       ┆ i64       ┆ i64       │\n",
       "╞════════════╪════════════╪════════════╪═══════════╪═══════════╪═══════════╪═══════════╪═══════════╡\n",
       "│ 2010s Rock ┆ 8805216200 ┆ 1          ┆ 0         ┆ 167       ┆ 摇滚      ┆ 59270     ┆ 100       │\n",
       "│ | 在摇滚的 ┆            ┆            ┆           ┆           ┆           ┆           ┆           │\n",
       "│ 浪潮中尽情 ┆            ┆            ┆           ┆           ┆           ┆           ┆           │\n",
       "│ 狂欢       ┆            ┆            ┆           ┆           ┆           ┆           ┆           │\n",
       "│ 快乐到底 | ┆ 8170169684 ┆ 31         ┆ 102       ┆ 9877      ┆ 摇滚      ┆ 2073485   ┆ 60        │\n",
       "│ 在欢快的华 ┆            ┆            ┆           ┆           ┆           ┆           ┆           │\n",
       "│ 语节奏中让 ┆            ┆            ┆           ┆           ┆           ┆           ┆           │\n",
       "│ 快乐DNA动  ┆            ┆            ┆           ┆           ┆           ┆           ┆           │\n",
       "│ 起来       ┆            ┆            ┆           ┆           ┆           ┆           ┆           │\n",
       "│ 她力量 |   ┆ 7461646215 ┆ 46         ┆ 65        ┆ 5326      ┆ 摇滚      ┆ 1700565   ┆ 110       │\n",
       "│ 手握麦克风 ┆            ┆            ┆           ┆           ┆           ┆           ┆           │\n",
       "│ 的她们势不 ┆            ┆            ┆           ┆           ┆           ┆           ┆           │\n",
       "│ 可挡       ┆            ┆            ┆           ┆           ┆           ┆           ┆           │\n",
       "│ Alt Japan  ┆ 1258972564 ┆ 0          ┆ 0         ┆ 26        ┆ 摇滚      ┆ 3268      ┆ 100       │\n",
       "│ | 国际视野 ┆ 2          ┆            ┆           ┆           ┆           ┆           ┆           │\n",
       "│ 与霓虹特色 ┆            ┆            ┆           ┆           ┆           ┆           ┆           │\n",
       "│ 的碰撞融合 ┆            ┆            ┆           ┆           ┆           ┆           ┆           │\n",
       "│ 朋克摇滚 | ┆ 5461490058 ┆ 48         ┆ 118       ┆ 13647     ┆ 摇滚      ┆ 2703581   ┆ 76        │\n",
       "│ 简单直接的 ┆            ┆            ┆           ┆           ┆           ┆           ┆           │\n",
       "│ 原始呐喊   ┆            ┆            ┆           ┆           ┆           ┆           ┆           │\n",
       "│ …          ┆ …          ┆ …          ┆ …         ┆ …         ┆ …         ┆ …         ┆ …         │\n",
       "│ 【女声电音 ┆ 2220502985 ┆ 481        ┆ 1029      ┆ 64684     ┆ 电子      ┆ 5120394   ┆ 175       │\n",
       "│ 】甜蜜与动 ┆            ┆            ┆           ┆           ┆           ┆           ┆           │\n",
       "│ 感的美妙律 ┆            ┆            ┆           ┆           ┆           ┆           ┆           │\n",
       "│ 动         ┆            ┆            ┆           ┆           ┆           ┆           ┆           │\n",
       "│ 文科生背书 ┆ 483828119  ┆ 379        ┆ 363       ┆ 14533     ┆ 电子      ┆ 1099328   ┆ 96        │\n",
       "│ 复习抖腿专 ┆            ┆            ┆           ┆           ┆           ┆           ┆           │\n",
       "│ 用bgm      ┆            ┆            ┆           ┆           ┆           ┆           ┆           │\n",
       "│ 跑步专用歌 ┆ 422367760  ┆ 21         ┆ 42        ┆ 2738      ┆ 电子      ┆ 245560    ┆ 142       │\n",
       "│ 单，保证步 ┆            ┆            ┆           ┆           ┆           ┆           ┆           │\n",
       "│ 频180+     ┆            ┆            ┆           ┆           ┆           ┆           ┆           │\n",
       "│ 车载DJ|出  ┆ 1254162322 ┆ 0          ┆ 0         ┆ 128       ┆ 电子      ┆ 25946     ┆ 132       │\n",
       "│ 行路上一路 ┆ 9          ┆            ┆           ┆           ┆           ┆           ┆           │\n",
       "│ 解乏       ┆            ┆            ┆           ┆           ┆           ┆           ┆           │\n",
       "│ 走秀T台音  ┆ 3073390684 ┆ 0          ┆ 3         ┆ 320       ┆ 电子      ┆ 46942     ┆ 89        │\n",
       "│ 乐|高级卡  ┆            ┆            ┆           ┆           ┆           ┆           ┆           │\n",
       "│ 点         ┆            ┆            ┆           ┆           ┆           ┆           ┆           │\n",
       "│ 走出态度   ┆            ┆            ┆           ┆           ┆           ┆           ┆           │\n",
       "└────────────┴────────────┴────────────┴───────────┴───────────┴───────────┴───────────┴───────────┘"
      ]
     },
     "execution_count": 3,
     "metadata": {},
     "output_type": "execute_result"
    }
   ],
   "source": [
    "PLAYLISTS_DF = pl.read_parquet('../data/playlists.parquet')\n",
    "PLAYLISTS_DF.write_excel('../data/playlists.xlsx')\n",
    "PLAYLISTS_DF"
   ]
  },
  {
   "cell_type": "code",
   "execution_count": 4,
   "metadata": {},
   "outputs": [
    {
     "data": {
      "text/html": [
       "<div><style>\n",
       ".dataframe > thead > tr,\n",
       ".dataframe > tbody > tr {\n",
       "  text-align: right;\n",
       "  white-space: pre-wrap;\n",
       "}\n",
       "</style>\n",
       "<small>shape: (26_418, 9)</small><table border=\"1\" class=\"dataframe\"><thead><tr><th>playlist_id</th><th>track_id</th><th>artist_id</th><th>artist_name</th><th>artist_area</th><th>artist_type</th><th>artist_description</th><th>artist_production</th><th>artist_alias</th></tr><tr><td>i64</td><td>i64</td><td>i64</td><td>str</td><td>i64</td><td>i64</td><td>str</td><td>str</td><td>str</td></tr></thead><tbody><tr><td>2746975900</td><td>1865011407</td><td>48983538</td><td>&quot;银河冲浪手&quot;</td><td>7</td><td>3</td><td>&quot;迷雾里有星斑 霓虹是浩瀚星海里的发光体 来自银河的冲浪手 窥…</td><td>&quot;&quot;</td><td>null</td></tr><tr><td>12356641124</td><td>1297747924</td><td>1158111</td><td>&quot;魏小然&quot;</td><td>7</td><td>1</td><td>&quot;魏小然，内地歌手，网络音乐人，以其独特的感情嗓音而走红网络。…</td><td>&quot;&quot;</td><td>null</td></tr><tr><td>636749611</td><td>1385757429</td><td>30293652</td><td>&quot;游一&quot;</td><td>7</td><td>1</td><td>&quot;后来的我们只有你变成了你想像的模样，而我追随着你却忘了我想要…</td><td>&quot;&quot;</td><td>null</td></tr><tr><td>648369792</td><td>383030</td><td>13002</td><td>&quot;铁玉兰&quot;</td><td>7</td><td>3</td><td>&quot;铁玉兰乐队是来自上海的一支乐队、主打歌曲“回家的路”曾在中国…</td><td>&quot;&lt;h2&gt;乐队成员&lt;/h2&gt;\n",
       "\n",
       "胡建明，主唱兼吉他手。32岁，…</td><td>&quot;&quot;</td></tr><tr><td>8544574231</td><td>1993080984</td><td>34745094</td><td>&quot;曼崽&quot;</td><td>7</td><td>2</td><td>&quot;一只学音乐专业的曼儿.&quot;</td><td>&quot;&quot;</td><td>null</td></tr><tr><td>&hellip;</td><td>&hellip;</td><td>&hellip;</td><td>&hellip;</td><td>&hellip;</td><td>&hellip;</td><td>&hellip;</td><td>&hellip;</td><td>&hellip;</td></tr><tr><td>7104174081</td><td>1842640231</td><td>33463497</td><td>&quot;和我在荒原跳舞&quot;</td><td>7</td><td>2</td><td>&quot;生理、安全、归属与爱、尊重以及自我实现&quot;</td><td>&quot;&quot;</td><td>null</td></tr><tr><td>7681439942</td><td>1347959709</td><td>12319773</td><td>&quot;919&quot;</td><td>7</td><td>1</td><td>&quot;正在缓缓升空的火箭, 合作及演出请联系邮箱: unknown…</td><td>&quot;&quot;</td><td>null</td></tr><tr><td>475292333</td><td>1979276294</td><td>34094116</td><td>&quot;Alime花&quot;</td><td>7</td><td>1</td><td>&quot;@地球行者 合作交流 私聊\n",
       "微信：18702599710 &quot;</td><td>&quot;&quot;</td><td>null</td></tr><tr><td>12504776606</td><td>1966632495</td><td>53434191</td><td>&quot;Dmk7.&quot;</td><td>7</td><td>1</td><td>&quot;剑眉星眸 清新俊逸 挺鼻薄唇 风流倜傥 潇洒英俊 古雕刻画 …</td><td>&quot;&quot;</td><td>null</td></tr><tr><td>12511557809</td><td>2073435261</td><td>46840061</td><td>&quot;AVIBE PRODUCTIONS&quot;</td><td>7</td><td>1</td><td>&quot;“AVIBE PRODUCTIONS”，澳门嘻哈音乐厂牌。2…</td><td>&quot;&quot;</td><td>null</td></tr></tbody></table></div>"
      ],
      "text/plain": [
       "shape: (26_418, 9)\n",
       "┌───────────┬───────────┬───────────┬───────────┬───┬───────────┬───────────┬───────────┬──────────┐\n",
       "│ playlist_ ┆ track_id  ┆ artist_id ┆ artist_na ┆ … ┆ artist_ty ┆ artist_de ┆ artist_pr ┆ artist_a │\n",
       "│ id        ┆ ---       ┆ ---       ┆ me        ┆   ┆ pe        ┆ scription ┆ oduction  ┆ lias     │\n",
       "│ ---       ┆ i64       ┆ i64       ┆ ---       ┆   ┆ ---       ┆ ---       ┆ ---       ┆ ---      │\n",
       "│ i64       ┆           ┆           ┆ str       ┆   ┆ i64       ┆ str       ┆ str       ┆ str      │\n",
       "╞═══════════╪═══════════╪═══════════╪═══════════╪═══╪═══════════╪═══════════╪═══════════╪══════════╡\n",
       "│ 274697590 ┆ 186501140 ┆ 48983538  ┆ 银河冲浪  ┆ … ┆ 3         ┆ 迷雾里有  ┆           ┆ null     │\n",
       "│ 0         ┆ 7         ┆           ┆ 手        ┆   ┆           ┆ 星斑 霓虹 ┆           ┆          │\n",
       "│           ┆           ┆           ┆           ┆   ┆           ┆ 是浩瀚星  ┆           ┆          │\n",
       "│           ┆           ┆           ┆           ┆   ┆           ┆ 海里的发  ┆           ┆          │\n",
       "│           ┆           ┆           ┆           ┆   ┆           ┆ 光体 来自 ┆           ┆          │\n",
       "│           ┆           ┆           ┆           ┆   ┆           ┆ 银河的冲  ┆           ┆          │\n",
       "│           ┆           ┆           ┆           ┆   ┆           ┆ 浪手 窥…  ┆           ┆          │\n",
       "│ 123566411 ┆ 129774792 ┆ 1158111   ┆ 魏小然    ┆ … ┆ 1         ┆ 魏小然，  ┆           ┆ null     │\n",
       "│ 24        ┆ 4         ┆           ┆           ┆   ┆           ┆ 内地歌手  ┆           ┆          │\n",
       "│           ┆           ┆           ┆           ┆   ┆           ┆ ，网络音  ┆           ┆          │\n",
       "│           ┆           ┆           ┆           ┆   ┆           ┆ 乐人，以  ┆           ┆          │\n",
       "│           ┆           ┆           ┆           ┆   ┆           ┆ 其独特的  ┆           ┆          │\n",
       "│           ┆           ┆           ┆           ┆   ┆           ┆ 感情嗓音  ┆           ┆          │\n",
       "│           ┆           ┆           ┆           ┆   ┆           ┆ 而走红网  ┆           ┆          │\n",
       "│           ┆           ┆           ┆           ┆   ┆           ┆ 络。…     ┆           ┆          │\n",
       "│ 636749611 ┆ 138575742 ┆ 30293652  ┆ 游一      ┆ … ┆ 1         ┆ 后来的我  ┆           ┆ null     │\n",
       "│           ┆ 9         ┆           ┆           ┆   ┆           ┆ 们只有你  ┆           ┆          │\n",
       "│           ┆           ┆           ┆           ┆   ┆           ┆ 变成了你  ┆           ┆          │\n",
       "│           ┆           ┆           ┆           ┆   ┆           ┆ 想像的模  ┆           ┆          │\n",
       "│           ┆           ┆           ┆           ┆   ┆           ┆ 样，而我  ┆           ┆          │\n",
       "│           ┆           ┆           ┆           ┆   ┆           ┆ 追随着你  ┆           ┆          │\n",
       "│           ┆           ┆           ┆           ┆   ┆           ┆ 却忘了我  ┆           ┆          │\n",
       "│           ┆           ┆           ┆           ┆   ┆           ┆ 想要…     ┆           ┆          │\n",
       "│ 648369792 ┆ 383030    ┆ 13002     ┆ 铁玉兰    ┆ … ┆ 3         ┆ 铁玉兰乐  ┆ <h2>乐队  ┆          │\n",
       "│           ┆           ┆           ┆           ┆   ┆           ┆ 队是来自  ┆ 成员</h2> ┆          │\n",
       "│           ┆           ┆           ┆           ┆   ┆           ┆ 上海的一  ┆           ┆          │\n",
       "│           ┆           ┆           ┆           ┆   ┆           ┆ 支乐队、  ┆ 胡建明，  ┆          │\n",
       "│           ┆           ┆           ┆           ┆   ┆           ┆ 主打歌曲“ ┆ 主唱兼吉  ┆          │\n",
       "│           ┆           ┆           ┆           ┆   ┆           ┆ 回家的路” ┆ 他手。32  ┆          │\n",
       "│           ┆           ┆           ┆           ┆   ┆           ┆ 曾在中国… ┆ 岁，…     ┆          │\n",
       "│ 854457423 ┆ 199308098 ┆ 34745094  ┆ 曼崽      ┆ … ┆ 2         ┆ 一只学音  ┆           ┆ null     │\n",
       "│ 1         ┆ 4         ┆           ┆           ┆   ┆           ┆ 乐专业的  ┆           ┆          │\n",
       "│           ┆           ┆           ┆           ┆   ┆           ┆ 曼儿.     ┆           ┆          │\n",
       "│ …         ┆ …         ┆ …         ┆ …         ┆ … ┆ …         ┆ …         ┆ …         ┆ …        │\n",
       "│ 710417408 ┆ 184264023 ┆ 33463497  ┆ 和我在荒  ┆ … ┆ 2         ┆ 生理、安  ┆           ┆ null     │\n",
       "│ 1         ┆ 1         ┆           ┆ 原跳舞    ┆   ┆           ┆ 全、归属  ┆           ┆          │\n",
       "│           ┆           ┆           ┆           ┆   ┆           ┆ 与爱、尊  ┆           ┆          │\n",
       "│           ┆           ┆           ┆           ┆   ┆           ┆ 重以及自  ┆           ┆          │\n",
       "│           ┆           ┆           ┆           ┆   ┆           ┆ 我实现    ┆           ┆          │\n",
       "│ 768143994 ┆ 134795970 ┆ 12319773  ┆ 919       ┆ … ┆ 1         ┆ 正在缓缓  ┆           ┆ null     │\n",
       "│ 2         ┆ 9         ┆           ┆           ┆   ┆           ┆ 升空的火  ┆           ┆          │\n",
       "│           ┆           ┆           ┆           ┆   ┆           ┆ 箭, 合作  ┆           ┆          │\n",
       "│           ┆           ┆           ┆           ┆   ┆           ┆ 及演出请  ┆           ┆          │\n",
       "│           ┆           ┆           ┆           ┆   ┆           ┆ 联系邮箱: ┆           ┆          │\n",
       "│           ┆           ┆           ┆           ┆   ┆           ┆ unknown…  ┆           ┆          │\n",
       "│ 475292333 ┆ 197927629 ┆ 34094116  ┆ Alime花   ┆ … ┆ 1         ┆ @地球行者 ┆           ┆ null     │\n",
       "│           ┆ 4         ┆           ┆           ┆   ┆           ┆ 合作交流  ┆           ┆          │\n",
       "│           ┆           ┆           ┆           ┆   ┆           ┆ 私聊      ┆           ┆          │\n",
       "│           ┆           ┆           ┆           ┆   ┆           ┆ 微信：187 ┆           ┆          │\n",
       "│           ┆           ┆           ┆           ┆   ┆           ┆ 02599710  ┆           ┆          │\n",
       "│ 125047766 ┆ 196663249 ┆ 53434191  ┆ Dmk7.     ┆ … ┆ 1         ┆ 剑眉星眸  ┆           ┆ null     │\n",
       "│ 06        ┆ 5         ┆           ┆           ┆   ┆           ┆ 清新俊逸  ┆           ┆          │\n",
       "│           ┆           ┆           ┆           ┆   ┆           ┆ 挺鼻薄唇  ┆           ┆          │\n",
       "│           ┆           ┆           ┆           ┆   ┆           ┆ 风流倜傥  ┆           ┆          │\n",
       "│           ┆           ┆           ┆           ┆   ┆           ┆ 潇洒英俊  ┆           ┆          │\n",
       "│           ┆           ┆           ┆           ┆   ┆           ┆ 古雕刻画  ┆           ┆          │\n",
       "│           ┆           ┆           ┆           ┆   ┆           ┆ …         ┆           ┆          │\n",
       "│ 125115578 ┆ 207343526 ┆ 46840061  ┆ AVIBE PRO ┆ … ┆ 1         ┆ “AVIBE    ┆           ┆ null     │\n",
       "│ 09        ┆ 1         ┆           ┆ DUCTIONS  ┆   ┆           ┆ PRODUCTIO ┆           ┆          │\n",
       "│           ┆           ┆           ┆           ┆   ┆           ┆ NS”，澳门 ┆           ┆          │\n",
       "│           ┆           ┆           ┆           ┆   ┆           ┆ 嘻哈音乐  ┆           ┆          │\n",
       "│           ┆           ┆           ┆           ┆   ┆           ┆ 厂牌。2…  ┆           ┆          │\n",
       "└───────────┴───────────┴───────────┴───────────┴───┴───────────┴───────────┴───────────┴──────────┘"
      ]
     },
     "execution_count": 4,
     "metadata": {},
     "output_type": "execute_result"
    }
   ],
   "source": [
    "CHINESE_ARTISTS_DETAILS_QUERY = (\n",
    "    pl.scan_parquet('../data/playlist_artists.parquet')\n",
    "    .with_columns(pl.col('playlist_id'), pl.col('artist_id'), pl.col('artist_area'))\n",
    "    .filter(pl.col('artist_area') == 7)\n",
    "    .unique(subset=['artist_id'])\n",
    ")\n",
    "CHINESE_ARTISTS_DETAILS_DF = CHINESE_ARTISTS_DETAILS_QUERY.collect()\n",
    "CHINESE_ARTISTS_DETAILS_DF.write_excel('../data/chinese_artists_details.xlsx')\n",
    "CHINESE_ARTISTS_DETAILS_DF\n"
   ]
  },
  {
   "cell_type": "code",
   "execution_count": 5,
   "metadata": {},
   "outputs": [
    {
     "data": {
      "text/html": [
       "<div><style>\n",
       ".dataframe > thead > tr,\n",
       ".dataframe > tbody > tr {\n",
       "  text-align: right;\n",
       "  white-space: pre-wrap;\n",
       "}\n",
       "</style>\n",
       "<small>shape: (1_220_987, 4)</small><table border=\"1\" class=\"dataframe\"><thead><tr><th>playlist_id</th><th>track_id</th><th>artist_id</th><th>artist_area</th></tr><tr><td>i64</td><td>i64</td><td>i64</td><td>i64</td></tr></thead><tbody><tr><td>8170169684</td><td>1406062963</td><td>30110421</td><td>7</td></tr><tr><td>8170169684</td><td>1359818052</td><td>1184074</td><td>7</td></tr><tr><td>8170169684</td><td>33394070</td><td>13191</td><td>7</td></tr><tr><td>8170169684</td><td>542690155</td><td>12111</td><td>7</td></tr><tr><td>8170169684</td><td>574925503</td><td>12029112</td><td>7</td></tr><tr><td>&hellip;</td><td>&hellip;</td><td>&hellip;</td><td>&hellip;</td></tr><tr><td>3073390684</td><td>520588146</td><td>12079186</td><td>7</td></tr><tr><td>3073390684</td><td>1429090683</td><td>34375133</td><td>7</td></tr><tr><td>3073390684</td><td>1376568216</td><td>32676034</td><td>7</td></tr><tr><td>3073390684</td><td>537641885</td><td>1124432</td><td>7</td></tr><tr><td>3073390684</td><td>537641885</td><td>12025193</td><td>7</td></tr></tbody></table></div>"
      ],
      "text/plain": [
       "shape: (1_220_987, 4)\n",
       "┌─────────────┬────────────┬───────────┬─────────────┐\n",
       "│ playlist_id ┆ track_id   ┆ artist_id ┆ artist_area │\n",
       "│ ---         ┆ ---        ┆ ---       ┆ ---         │\n",
       "│ i64         ┆ i64        ┆ i64       ┆ i64         │\n",
       "╞═════════════╪════════════╪═══════════╪═════════════╡\n",
       "│ 8170169684  ┆ 1406062963 ┆ 30110421  ┆ 7           │\n",
       "│ 8170169684  ┆ 1359818052 ┆ 1184074   ┆ 7           │\n",
       "│ 8170169684  ┆ 33394070   ┆ 13191     ┆ 7           │\n",
       "│ 8170169684  ┆ 542690155  ┆ 12111     ┆ 7           │\n",
       "│ 8170169684  ┆ 574925503  ┆ 12029112  ┆ 7           │\n",
       "│ …           ┆ …          ┆ …         ┆ …           │\n",
       "│ 3073390684  ┆ 520588146  ┆ 12079186  ┆ 7           │\n",
       "│ 3073390684  ┆ 1429090683 ┆ 34375133  ┆ 7           │\n",
       "│ 3073390684  ┆ 1376568216 ┆ 32676034  ┆ 7           │\n",
       "│ 3073390684  ┆ 537641885  ┆ 1124432   ┆ 7           │\n",
       "│ 3073390684  ┆ 537641885  ┆ 12025193  ┆ 7           │\n",
       "└─────────────┴────────────┴───────────┴─────────────┘"
      ]
     },
     "execution_count": 5,
     "metadata": {},
     "output_type": "execute_result"
    }
   ],
   "source": [
    "CHINESE_ARTISTS_QUERY = (\n",
    "    pl.scan_parquet('../data/playlist_artists.parquet')\n",
    "    .with_columns(pl.col('playlist_id'), pl.col('artist_id'), pl.col('artist_area'))\n",
    "    .select(pl.col('playlist_id'), pl.col('track_id'), pl.col('artist_id'), pl.col('artist_area'))\n",
    "    .filter(pl.col('artist_area') == 7)\n",
    ")\n",
    "CHINESE_ARTISTS_DF = CHINESE_ARTISTS_QUERY.collect()\n",
    "CHINESE_ARTISTS_DF\n"
   ]
  },
  {
   "cell_type": "code",
   "execution_count": 6,
   "metadata": {},
   "outputs": [
    {
     "data": {
      "text/html": [
       "<div><style>\n",
       ".dataframe > thead > tr,\n",
       ".dataframe > tbody > tr {\n",
       "  text-align: right;\n",
       "  white-space: pre-wrap;\n",
       "}\n",
       "</style>\n",
       "<small>shape: (6_732, 6)</small><table border=\"1\" class=\"dataframe\"><thead><tr><th>playlist_id</th><th>play_count</th><th>comment_count</th><th>share_count</th><th>subscribed_count</th><th>track_count</th></tr><tr><td>i64</td><td>i64</td><td>i64</td><td>i64</td><td>i64</td><td>i64</td></tr></thead><tbody><tr><td>97773856</td><td>378410</td><td>57</td><td>43</td><td>2581</td><td>17</td></tr><tr><td>12557092143</td><td>22</td><td>0</td><td>0</td><td>0</td><td>64</td></tr><tr><td>2202356095</td><td>6844</td><td>0</td><td>1</td><td>20</td><td>102</td></tr><tr><td>7299782588</td><td>1319309</td><td>13</td><td>1115</td><td>10202</td><td>405</td></tr><tr><td>2210850710</td><td>1745681</td><td>18</td><td>443</td><td>9077</td><td>387</td></tr><tr><td>&hellip;</td><td>&hellip;</td><td>&hellip;</td><td>&hellip;</td><td>&hellip;</td><td>&hellip;</td></tr><tr><td>12534243431</td><td>246</td><td>0</td><td>1</td><td>10</td><td>22</td></tr><tr><td>5006676592</td><td>1831252</td><td>76</td><td>80</td><td>12502</td><td>354</td></tr><tr><td>6891587224</td><td>9617321</td><td>1089</td><td>1001</td><td>65388</td><td>108</td></tr><tr><td>2979250878</td><td>748106</td><td>23</td><td>164</td><td>8692</td><td>19</td></tr><tr><td>8498261202</td><td>77225</td><td>9</td><td>11</td><td>547</td><td>50</td></tr></tbody></table></div>"
      ],
      "text/plain": [
       "shape: (6_732, 6)\n",
       "┌─────────────┬────────────┬───────────────┬─────────────┬──────────────────┬─────────────┐\n",
       "│ playlist_id ┆ play_count ┆ comment_count ┆ share_count ┆ subscribed_count ┆ track_count │\n",
       "│ ---         ┆ ---        ┆ ---           ┆ ---         ┆ ---              ┆ ---         │\n",
       "│ i64         ┆ i64        ┆ i64           ┆ i64         ┆ i64              ┆ i64         │\n",
       "╞═════════════╪════════════╪═══════════════╪═════════════╪══════════════════╪═════════════╡\n",
       "│ 97773856    ┆ 378410     ┆ 57            ┆ 43          ┆ 2581             ┆ 17          │\n",
       "│ 12557092143 ┆ 22         ┆ 0             ┆ 0           ┆ 0                ┆ 64          │\n",
       "│ 2202356095  ┆ 6844       ┆ 0             ┆ 1           ┆ 20               ┆ 102         │\n",
       "│ 7299782588  ┆ 1319309    ┆ 13            ┆ 1115        ┆ 10202            ┆ 405         │\n",
       "│ 2210850710  ┆ 1745681    ┆ 18            ┆ 443         ┆ 9077             ┆ 387         │\n",
       "│ …           ┆ …          ┆ …             ┆ …           ┆ …                ┆ …           │\n",
       "│ 12534243431 ┆ 246        ┆ 0             ┆ 1           ┆ 10               ┆ 22          │\n",
       "│ 5006676592  ┆ 1831252    ┆ 76            ┆ 80          ┆ 12502            ┆ 354         │\n",
       "│ 6891587224  ┆ 9617321    ┆ 1089          ┆ 1001        ┆ 65388            ┆ 108         │\n",
       "│ 2979250878  ┆ 748106     ┆ 23            ┆ 164         ┆ 8692             ┆ 19          │\n",
       "│ 8498261202  ┆ 77225      ┆ 9             ┆ 11          ┆ 547              ┆ 50          │\n",
       "└─────────────┴────────────┴───────────────┴─────────────┴──────────────────┴─────────────┘"
      ]
     },
     "execution_count": 6,
     "metadata": {},
     "output_type": "execute_result"
    }
   ],
   "source": [
    "CHINESE_PLAYLISTS_QUERY = (\n",
    "    PLAYLISTS_DF.lazy()\n",
    "    .join(CHINESE_ARTISTS_DF.lazy(), on='playlist_id', how='left')\n",
    "    .select(pl.col('playlist_id'), pl.col('play_count'), pl.col('comment_count'), pl.col('share_count'), pl.col('subscribed_count'), pl.col('track_count'))\n",
    "    .filter(pl.col('playlist_id').is_in(CHINESE_ARTISTS_DF.get_column('playlist_id')))\n",
    "    .unique(subset=['playlist_id'])\n",
    ")\n",
    "CHINESE_PLAYLISTS_DF = CHINESE_PLAYLISTS_QUERY.collect()\n",
    "CHINESE_PLAYLISTS_DF.write_excel('../data/chinese_playlists.xlsx')\n",
    "CHINESE_PLAYLISTS_DF"
   ]
  },
  {
   "cell_type": "code",
   "execution_count": 7,
   "metadata": {},
   "outputs": [
    {
     "data": {
      "text/html": [
       "<div><style>\n",
       ".dataframe > thead > tr,\n",
       ".dataframe > tbody > tr {\n",
       "  text-align: right;\n",
       "  white-space: pre-wrap;\n",
       "}\n",
       "</style>\n",
       "<small>shape: (1, 5)</small><table border=\"1\" class=\"dataframe\"><thead><tr><th>play_count</th><th>comment_count</th><th>share_count</th><th>subscribed_count</th><th>track_count</th></tr><tr><td>i64</td><td>i64</td><td>i64</td><td>i64</td><td>i64</td></tr></thead><tbody><tr><td>10290063236</td><td>581592</td><td>1858071</td><td>99773470</td><td>1367691</td></tr></tbody></table></div>"
      ],
      "text/plain": [
       "shape: (1, 5)\n",
       "┌─────────────┬───────────────┬─────────────┬──────────────────┬─────────────┐\n",
       "│ play_count  ┆ comment_count ┆ share_count ┆ subscribed_count ┆ track_count │\n",
       "│ ---         ┆ ---           ┆ ---         ┆ ---              ┆ ---         │\n",
       "│ i64         ┆ i64           ┆ i64         ┆ i64              ┆ i64         │\n",
       "╞═════════════╪═══════════════╪═════════════╪══════════════════╪═════════════╡\n",
       "│ 10290063236 ┆ 581592        ┆ 1858071     ┆ 99773470         ┆ 1367691     │\n",
       "└─────────────┴───────────────┴─────────────┴──────────────────┴─────────────┘"
      ]
     },
     "execution_count": 7,
     "metadata": {},
     "output_type": "execute_result"
    }
   ],
   "source": [
    "CHINESE_PLAYLIST_INTERACTIONS_DF = CHINESE_PLAYLISTS_DF.select(pl.exclude('playlist_id')).sum()\n",
    "CHINESE_PLAYLIST_INTERACTIONS_DF.write_excel('../data/chinese_playlists_summary.xlsx')\n",
    "CHINESE_PLAYLIST_INTERACTIONS_DF"
   ]
  },
  {
   "cell_type": "code",
   "execution_count": 32,
   "metadata": {},
   "outputs": [
    {
     "data": {
      "text/html": [
       "<div><style>\n",
       ".dataframe > thead > tr,\n",
       ".dataframe > tbody > tr {\n",
       "  text-align: right;\n",
       "  white-space: pre-wrap;\n",
       "}\n",
       "</style>\n",
       "<small>shape: (43, 5)</small><table border=\"1\" class=\"dataframe\"><thead><tr><th>artist_id</th><th>artist_name</th><th>mv_count</th><th>track_count</th><th>album_count</th></tr><tr><td>i64</td><td>str</td><td>i64</td><td>i64</td><td>i64</td></tr></thead><tbody><tr><td>2111</td><td>&quot;崔健&quot;</td><td>1</td><td>186</td><td>18</td></tr><tr><td>6455</td><td>&quot;张楚&quot;</td><td>8</td><td>104</td><td>15</td></tr><tr><td>3055</td><td>&quot;何勇&quot;</td><td>2</td><td>19</td><td>2</td></tr><tr><td>2515</td><td>&quot;窦唯&quot;</td><td>4</td><td>773</td><td>147</td></tr><tr><td>11759</td><td>&quot;黑豹乐队&quot;</td><td>4</td><td>182</td><td>21</td></tr><tr><td>&hellip;</td><td>&hellip;</td><td>&hellip;</td><td>&hellip;</td><td>&hellip;</td></tr><tr><td>1007170</td><td>&quot;陈粒&quot;</td><td>28</td><td>200</td><td>63</td></tr><tr><td>1039895</td><td>&quot;谢春花&quot;</td><td>42</td><td>238</td><td>59</td></tr><tr><td>1132392</td><td>&quot;马思唯&quot;</td><td>56</td><td>240</td><td>52</td></tr><tr><td>13523466</td><td>&quot;Hyper Slash&quot;</td><td>9</td><td>50</td><td>16</td></tr><tr><td>29393033</td><td>&quot;福禄寿FloruitShow&quot;</td><td>4</td><td>37</td><td>17</td></tr></tbody></table></div>"
      ],
      "text/plain": [
       "shape: (43, 5)\n",
       "┌───────────┬───────────────────┬──────────┬─────────────┬─────────────┐\n",
       "│ artist_id ┆ artist_name       ┆ mv_count ┆ track_count ┆ album_count │\n",
       "│ ---       ┆ ---               ┆ ---      ┆ ---         ┆ ---         │\n",
       "│ i64       ┆ str               ┆ i64      ┆ i64         ┆ i64         │\n",
       "╞═══════════╪═══════════════════╪══════════╪═════════════╪═════════════╡\n",
       "│ 2111      ┆ 崔健              ┆ 1        ┆ 186         ┆ 18          │\n",
       "│ 6455      ┆ 张楚              ┆ 8        ┆ 104         ┆ 15          │\n",
       "│ 3055      ┆ 何勇              ┆ 2        ┆ 19          ┆ 2           │\n",
       "│ 2515      ┆ 窦唯              ┆ 4        ┆ 773         ┆ 147         │\n",
       "│ 11759     ┆ 黑豹乐队          ┆ 4        ┆ 182         ┆ 21          │\n",
       "│ …         ┆ …                 ┆ …        ┆ …           ┆ …           │\n",
       "│ 1007170   ┆ 陈粒              ┆ 28       ┆ 200         ┆ 63          │\n",
       "│ 1039895   ┆ 谢春花            ┆ 42       ┆ 238         ┆ 59          │\n",
       "│ 1132392   ┆ 马思唯            ┆ 56       ┆ 240         ┆ 52          │\n",
       "│ 13523466  ┆ Hyper Slash       ┆ 9        ┆ 50          ┆ 16          │\n",
       "│ 29393033  ┆ 福禄寿FloruitShow ┆ 4        ┆ 37          ┆ 17          │\n",
       "└───────────┴───────────────────┴──────────┴─────────────┴─────────────┘"
      ]
     },
     "execution_count": 32,
     "metadata": {},
     "output_type": "execute_result"
    }
   ],
   "source": [
    "SPECIFIC_ARTIST_MISC_DF = pl.read_parquet('../data/specific_artist_misc.parquet')\n",
    "SPECIFIC_ARTIST_MISC_DF"
   ]
  },
  {
   "cell_type": "code",
   "execution_count": 33,
   "metadata": {},
   "outputs": [
    {
     "data": {
      "text/html": [
       "<div><style>\n",
       ".dataframe > thead > tr,\n",
       ".dataframe > tbody > tr {\n",
       "  text-align: right;\n",
       "  white-space: pre-wrap;\n",
       "}\n",
       "</style>\n",
       "<small>shape: (1_081, 3)</small><table border=\"1\" class=\"dataframe\"><thead><tr><th>artist_id</th><th>album_id</th><th>album_name</th></tr><tr><td>i64</td><td>i64</td><td>str</td></tr></thead><tbody><tr><td>2111</td><td>181094567</td><td>&quot;飞狗&quot;</td></tr><tr><td>2111</td><td>124460186</td><td>&quot;飞狗&quot;</td></tr><tr><td>2111</td><td>35903733</td><td>&quot;摇滚交响音乐会&quot;</td></tr><tr><td>2111</td><td>179249545</td><td>&quot;2016崔健“滚动三十”北京演唱会&quot;</td></tr><tr><td>2111</td><td>34403098</td><td>&quot;光冻&quot;</td></tr><tr><td>&hellip;</td><td>&hellip;</td><td>&hellip;</td></tr><tr><td>29393033</td><td>84361224</td><td>&quot;玉珍&quot;</td></tr><tr><td>29393033</td><td>84317440</td><td>&quot;没咯&quot;</td></tr><tr><td>29393033</td><td>75501908</td><td>&quot;马&quot;</td></tr><tr><td>29393033</td><td>74692140</td><td>&quot;超度我&quot;</td></tr><tr><td>29393033</td><td>72813719</td><td>&quot;我用什么把你留住&quot;</td></tr></tbody></table></div>"
      ],
      "text/plain": [
       "shape: (1_081, 3)\n",
       "┌───────────┬───────────┬──────────────────────────────┐\n",
       "│ artist_id ┆ album_id  ┆ album_name                   │\n",
       "│ ---       ┆ ---       ┆ ---                          │\n",
       "│ i64       ┆ i64       ┆ str                          │\n",
       "╞═══════════╪═══════════╪══════════════════════════════╡\n",
       "│ 2111      ┆ 181094567 ┆ 飞狗                         │\n",
       "│ 2111      ┆ 124460186 ┆ 飞狗                         │\n",
       "│ 2111      ┆ 35903733  ┆ 摇滚交响音乐会               │\n",
       "│ 2111      ┆ 179249545 ┆ 2016崔健“滚动三十”北京演唱会 │\n",
       "│ 2111      ┆ 34403098  ┆ 光冻                         │\n",
       "│ …         ┆ …         ┆ …                            │\n",
       "│ 29393033  ┆ 84361224  ┆ 玉珍                         │\n",
       "│ 29393033  ┆ 84317440  ┆ 没咯                         │\n",
       "│ 29393033  ┆ 75501908  ┆ 马                           │\n",
       "│ 29393033  ┆ 74692140  ┆ 超度我                       │\n",
       "│ 29393033  ┆ 72813719  ┆ 我用什么把你留住             │\n",
       "└───────────┴───────────┴──────────────────────────────┘"
      ]
     },
     "execution_count": 33,
     "metadata": {},
     "output_type": "execute_result"
    }
   ],
   "source": [
    "SPECIFIC_ARTIST_ALBUMS_DF = pl.read_parquet('../data/specific_artist_albums.parquet')\n",
    "SPECIFIC_ARTIST_ALBUMS_DF.write_excel('../data/specific_artist_albums.xlsx')\n",
    "SPECIFIC_ARTIST_ALBUMS_DF"
   ]
  },
  {
   "cell_type": "code",
   "execution_count": 36,
   "metadata": {},
   "outputs": [
    {
     "data": {
      "text/html": [
       "<div><style>\n",
       ".dataframe > thead > tr,\n",
       ".dataframe > tbody > tr {\n",
       "  text-align: right;\n",
       "  white-space: pre-wrap;\n",
       "}\n",
       "</style>\n",
       "<small>shape: (78, 2)</small><table border=\"1\" class=\"dataframe\"><thead><tr><th>album_id</th><th>album_sales</th></tr><tr><td>i64</td><td>i64</td></tr></thead><tbody><tr><td>3394211</td><td>109048</td></tr><tr><td>34780579</td><td>50527</td></tr><tr><td>34804101</td><td>4129</td></tr><tr><td>35444067</td><td>160714</td></tr><tr><td>35544359</td><td>2875</td></tr><tr><td>&hellip;</td><td>&hellip;</td></tr><tr><td>240522534</td><td>98</td></tr><tr><td>241185443</td><td>155</td></tr><tr><td>244255106</td><td>272</td></tr><tr><td>245706856</td><td>140</td></tr><tr><td>247974960</td><td>139</td></tr></tbody></table></div>"
      ],
      "text/plain": [
       "shape: (78, 2)\n",
       "┌───────────┬─────────────┐\n",
       "│ album_id  ┆ album_sales │\n",
       "│ ---       ┆ ---         │\n",
       "│ i64       ┆ i64         │\n",
       "╞═══════════╪═════════════╡\n",
       "│ 3394211   ┆ 109048      │\n",
       "│ 34780579  ┆ 50527       │\n",
       "│ 34804101  ┆ 4129        │\n",
       "│ 35444067  ┆ 160714      │\n",
       "│ 35544359  ┆ 2875        │\n",
       "│ …         ┆ …           │\n",
       "│ 240522534 ┆ 98          │\n",
       "│ 241185443 ┆ 155         │\n",
       "│ 244255106 ┆ 272         │\n",
       "│ 245706856 ┆ 140         │\n",
       "│ 247974960 ┆ 139         │\n",
       "└───────────┴─────────────┘"
      ]
     },
     "execution_count": 36,
     "metadata": {},
     "output_type": "execute_result"
    }
   ],
   "source": [
    "SPECIFIC_ALBUM_SALES_DF = pl.read_parquet('../data/specific_artist_sales.parquet')\n",
    "SPECIFIC_ALBUM_SALES_DF.write_excel('../data/specific_album_sales.xlsx')\n",
    "SPECIFIC_ALBUM_SALES_DF"
   ]
  },
  {
   "cell_type": "code",
   "execution_count": 39,
   "metadata": {},
   "outputs": [
    {
     "data": {
      "text/html": [
       "<div><style>\n",
       ".dataframe > thead > tr,\n",
       ".dataframe > tbody > tr {\n",
       "  text-align: right;\n",
       "  white-space: pre-wrap;\n",
       "}\n",
       "</style>\n",
       "<small>shape: (43, 6)</small><table border=\"1\" class=\"dataframe\"><thead><tr><th>artist_id</th><th>artist_name</th><th>total_album_sales</th><th>mv_count</th><th>track_count</th><th>album_count</th></tr><tr><td>i64</td><td>str</td><td>i64</td><td>i64</td><td>i64</td><td>i64</td></tr></thead><tbody><tr><td>13188</td><td>&quot;惘闻&quot;</td><td>41101</td><td>40</td><td>126</td><td>19</td></tr><tr><td>11353</td><td>&quot;Chui Wan&quot;</td><td>306</td><td>6</td><td>46</td><td>7</td></tr><tr><td>12247</td><td>&quot;Los Crasher&quot;</td><td>0</td><td>3</td><td>75</td><td>10</td></tr><tr><td>5345</td><td>&quot;万晓利&quot;</td><td>7208</td><td>6</td><td>74</td><td>6</td></tr><tr><td>13421</td><td>&quot;腰乐队&quot;</td><td>0</td><td>0</td><td>43</td><td>6</td></tr><tr><td>&hellip;</td><td>&hellip;</td><td>&hellip;</td><td>&hellip;</td><td>&hellip;</td><td>&hellip;</td></tr><tr><td>4592</td><td>&quot;马頔&quot;</td><td>861</td><td>23</td><td>61</td><td>27</td></tr><tr><td>11759</td><td>&quot;黑豹乐队&quot;</td><td>0</td><td>4</td><td>182</td><td>21</td></tr><tr><td>2111</td><td>&quot;崔健&quot;</td><td>0</td><td>1</td><td>186</td><td>18</td></tr><tr><td>12442</td><td>&quot;脑浊乐队&quot;</td><td>0</td><td>14</td><td>119</td><td>23</td></tr><tr><td>12972</td><td>&quot;唐朝乐队&quot;</td><td>0</td><td>3</td><td>77</td><td>10</td></tr></tbody></table></div>"
      ],
      "text/plain": [
       "shape: (43, 6)\n",
       "┌───────────┬─────────────┬───────────────────┬──────────┬─────────────┬─────────────┐\n",
       "│ artist_id ┆ artist_name ┆ total_album_sales ┆ mv_count ┆ track_count ┆ album_count │\n",
       "│ ---       ┆ ---         ┆ ---               ┆ ---      ┆ ---         ┆ ---         │\n",
       "│ i64       ┆ str         ┆ i64               ┆ i64      ┆ i64         ┆ i64         │\n",
       "╞═══════════╪═════════════╪═══════════════════╪══════════╪═════════════╪═════════════╡\n",
       "│ 13188     ┆ 惘闻        ┆ 41101             ┆ 40       ┆ 126         ┆ 19          │\n",
       "│ 11353     ┆ Chui Wan    ┆ 306               ┆ 6        ┆ 46          ┆ 7           │\n",
       "│ 12247     ┆ Los Crasher ┆ 0                 ┆ 3        ┆ 75          ┆ 10          │\n",
       "│ 5345      ┆ 万晓利      ┆ 7208              ┆ 6        ┆ 74          ┆ 6           │\n",
       "│ 13421     ┆ 腰乐队      ┆ 0                 ┆ 0        ┆ 43          ┆ 6           │\n",
       "│ …         ┆ …           ┆ …                 ┆ …        ┆ …           ┆ …           │\n",
       "│ 4592      ┆ 马頔        ┆ 861               ┆ 23       ┆ 61          ┆ 27          │\n",
       "│ 11759     ┆ 黑豹乐队    ┆ 0                 ┆ 4        ┆ 182         ┆ 21          │\n",
       "│ 2111      ┆ 崔健        ┆ 0                 ┆ 1        ┆ 186         ┆ 18          │\n",
       "│ 12442     ┆ 脑浊乐队    ┆ 0                 ┆ 14       ┆ 119         ┆ 23          │\n",
       "│ 12972     ┆ 唐朝乐队    ┆ 0                 ┆ 3        ┆ 77          ┆ 10          │\n",
       "└───────────┴─────────────┴───────────────────┴──────────┴─────────────┴─────────────┘"
      ]
     },
     "execution_count": 39,
     "metadata": {},
     "output_type": "execute_result"
    }
   ],
   "source": [
    "SPECIFIC_ARTIST_SALES_QUERY = (\n",
    "    SPECIFIC_ARTIST_ALBUMS_DF.lazy()\n",
    "    .join(SPECIFIC_ALBUM_SALES_DF.lazy(), on='album_id', how='left')\n",
    ")\n",
    "\n",
    "SPECIFIC_ARTIST_MISC_WITH_SALES_DF = (\n",
    "    SPECIFIC_ARTIST_SALES_QUERY.collect()\n",
    "    .join(SPECIFIC_ARTIST_MISC_DF.select('artist_id', 'artist_name'), on='artist_id', how='left')\n",
    "    .group_by(['artist_id', 'artist_name'])\n",
    "    .agg(pl.col('album_sales').sum().alias('total_album_sales'))\n",
    ")\n",
    "\n",
    "# Append artist misc information\n",
    "SPECIFIC_ARTIST_MISC_WITH_SALES_DF = (\n",
    "    SPECIFIC_ARTIST_MISC_WITH_SALES_DF\n",
    "    .join(SPECIFIC_ARTIST_MISC_DF.select('artist_id', 'mv_count', 'track_count', 'album_count'), on='artist_id', how='left')\n",
    ")\n",
    "\n",
    "SPECIFIC_ARTIST_MISC_WITH_SALES_DF.write_excel('../data/specific_artist_sales.xlsx')\n",
    "SPECIFIC_ARTIST_MISC_WITH_SALES_DF\n"
   ]
  }
 ],
 "metadata": {
  "kernelspec": {
   "display_name": "Python 3",
   "language": "python",
   "name": "python3"
  },
  "language_info": {
   "codemirror_mode": {
    "name": "ipython",
    "version": 3
   },
   "file_extension": ".py",
   "mimetype": "text/x-python",
   "name": "python",
   "nbconvert_exporter": "python",
   "pygments_lexer": "ipython3",
   "version": "3.12.6"
  }
 },
 "nbformat": 4,
 "nbformat_minor": 2
}
