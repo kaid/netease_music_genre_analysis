{
 "cells": [
  {
   "cell_type": "code",
   "execution_count": 3,
   "metadata": {},
   "outputs": [],
   "source": [
    "import polars as pl"
   ]
  },
  {
   "cell_type": "code",
   "execution_count": 4,
   "metadata": {},
   "outputs": [
    {
     "data": {
      "text/html": [
       "<div><style>\n",
       ".dataframe > thead > tr,\n",
       ".dataframe > tbody > tr {\n",
       "  text-align: right;\n",
       "  white-space: pre-wrap;\n",
       "}\n",
       "</style>\n",
       "<small>shape: (8_400, 8)</small><table border=\"1\" class=\"dataframe\"><thead><tr><th>playlist_name</th><th>playlist_id</th><th>comment_count</th><th>share_count</th><th>subscribed_count</th><th>categories</th><th>play_count</th><th>track_count</th></tr><tr><td>str</td><td>i64</td><td>i64</td><td>i64</td><td>i64</td><td>str</td><td>i64</td><td>i64</td></tr></thead><tbody><tr><td>&quot;2010s Rock | 在摇滚的浪潮中尽情狂欢&quot;</td><td>8805216200</td><td>1</td><td>0</td><td>167</td><td>&quot;摇滚&quot;</td><td>59270</td><td>100</td></tr><tr><td>&quot;快乐到底 | 在欢快的华语节奏中让快乐DNA动起来&quot;</td><td>8170169684</td><td>31</td><td>102</td><td>9877</td><td>&quot;摇滚&quot;</td><td>2073485</td><td>60</td></tr><tr><td>&quot;她力量 | 手握麦克风的她们势不可挡&quot;</td><td>7461646215</td><td>46</td><td>65</td><td>5326</td><td>&quot;摇滚&quot;</td><td>1700565</td><td>110</td></tr><tr><td>&quot;Alt Japan | 国际视野与霓虹特色的碰撞融合&quot;</td><td>12589725642</td><td>0</td><td>0</td><td>26</td><td>&quot;摇滚&quot;</td><td>3268</td><td>100</td></tr><tr><td>&quot;朋克摇滚 | 简单直接的原始呐喊&quot;</td><td>5461490058</td><td>48</td><td>118</td><td>13647</td><td>&quot;摇滚&quot;</td><td>2703581</td><td>76</td></tr><tr><td>&hellip;</td><td>&hellip;</td><td>&hellip;</td><td>&hellip;</td><td>&hellip;</td><td>&hellip;</td><td>&hellip;</td><td>&hellip;</td></tr><tr><td>&quot;【女声电音】甜蜜与动感的美妙律动&quot;</td><td>2220502985</td><td>481</td><td>1029</td><td>64684</td><td>&quot;电子&quot;</td><td>5120394</td><td>175</td></tr><tr><td>&quot;文科生背书复习抖腿专用bgm&quot;</td><td>483828119</td><td>379</td><td>363</td><td>14533</td><td>&quot;电子&quot;</td><td>1099328</td><td>96</td></tr><tr><td>&quot;跑步专用歌单，保证步频180+&quot;</td><td>422367760</td><td>21</td><td>42</td><td>2738</td><td>&quot;电子&quot;</td><td>245560</td><td>142</td></tr><tr><td>&quot;车载DJ|出行路上一路解乏&quot;</td><td>12541623229</td><td>0</td><td>0</td><td>128</td><td>&quot;电子&quot;</td><td>25946</td><td>132</td></tr><tr><td>&quot;走秀T台音乐|高级卡点 走出态度&quot;</td><td>3073390684</td><td>0</td><td>3</td><td>320</td><td>&quot;电子&quot;</td><td>46942</td><td>89</td></tr></tbody></table></div>"
      ],
      "text/plain": [
       "shape: (8_400, 8)\n",
       "┌────────────┬────────────┬────────────┬───────────┬───────────┬───────────┬───────────┬───────────┐\n",
       "│ playlist_n ┆ playlist_i ┆ comment_co ┆ share_cou ┆ subscribe ┆ categorie ┆ play_coun ┆ track_cou │\n",
       "│ ame        ┆ d          ┆ unt        ┆ nt        ┆ d_count   ┆ s         ┆ t         ┆ nt        │\n",
       "│ ---        ┆ ---        ┆ ---        ┆ ---       ┆ ---       ┆ ---       ┆ ---       ┆ ---       │\n",
       "│ str        ┆ i64        ┆ i64        ┆ i64       ┆ i64       ┆ str       ┆ i64       ┆ i64       │\n",
       "╞════════════╪════════════╪════════════╪═══════════╪═══════════╪═══════════╪═══════════╪═══════════╡\n",
       "│ 2010s Rock ┆ 8805216200 ┆ 1          ┆ 0         ┆ 167       ┆ 摇滚      ┆ 59270     ┆ 100       │\n",
       "│ | 在摇滚的 ┆            ┆            ┆           ┆           ┆           ┆           ┆           │\n",
       "│ 浪潮中尽情 ┆            ┆            ┆           ┆           ┆           ┆           ┆           │\n",
       "│ 狂欢       ┆            ┆            ┆           ┆           ┆           ┆           ┆           │\n",
       "│ 快乐到底 | ┆ 8170169684 ┆ 31         ┆ 102       ┆ 9877      ┆ 摇滚      ┆ 2073485   ┆ 60        │\n",
       "│ 在欢快的华 ┆            ┆            ┆           ┆           ┆           ┆           ┆           │\n",
       "│ 语节奏中让 ┆            ┆            ┆           ┆           ┆           ┆           ┆           │\n",
       "│ 快乐DNA动  ┆            ┆            ┆           ┆           ┆           ┆           ┆           │\n",
       "│ 起来       ┆            ┆            ┆           ┆           ┆           ┆           ┆           │\n",
       "│ 她力量 |   ┆ 7461646215 ┆ 46         ┆ 65        ┆ 5326      ┆ 摇滚      ┆ 1700565   ┆ 110       │\n",
       "│ 手握麦克风 ┆            ┆            ┆           ┆           ┆           ┆           ┆           │\n",
       "│ 的她们势不 ┆            ┆            ┆           ┆           ┆           ┆           ┆           │\n",
       "│ 可挡       ┆            ┆            ┆           ┆           ┆           ┆           ┆           │\n",
       "│ Alt Japan  ┆ 1258972564 ┆ 0          ┆ 0         ┆ 26        ┆ 摇滚      ┆ 3268      ┆ 100       │\n",
       "│ | 国际视野 ┆ 2          ┆            ┆           ┆           ┆           ┆           ┆           │\n",
       "│ 与霓虹特色 ┆            ┆            ┆           ┆           ┆           ┆           ┆           │\n",
       "│ 的碰撞融合 ┆            ┆            ┆           ┆           ┆           ┆           ┆           │\n",
       "│ 朋克摇滚 | ┆ 5461490058 ┆ 48         ┆ 118       ┆ 13647     ┆ 摇滚      ┆ 2703581   ┆ 76        │\n",
       "│ 简单直接的 ┆            ┆            ┆           ┆           ┆           ┆           ┆           │\n",
       "│ 原始呐喊   ┆            ┆            ┆           ┆           ┆           ┆           ┆           │\n",
       "│ …          ┆ …          ┆ …          ┆ …         ┆ …         ┆ …         ┆ …         ┆ …         │\n",
       "│ 【女声电音 ┆ 2220502985 ┆ 481        ┆ 1029      ┆ 64684     ┆ 电子      ┆ 5120394   ┆ 175       │\n",
       "│ 】甜蜜与动 ┆            ┆            ┆           ┆           ┆           ┆           ┆           │\n",
       "│ 感的美妙律 ┆            ┆            ┆           ┆           ┆           ┆           ┆           │\n",
       "│ 动         ┆            ┆            ┆           ┆           ┆           ┆           ┆           │\n",
       "│ 文科生背书 ┆ 483828119  ┆ 379        ┆ 363       ┆ 14533     ┆ 电子      ┆ 1099328   ┆ 96        │\n",
       "│ 复习抖腿专 ┆            ┆            ┆           ┆           ┆           ┆           ┆           │\n",
       "│ 用bgm      ┆            ┆            ┆           ┆           ┆           ┆           ┆           │\n",
       "│ 跑步专用歌 ┆ 422367760  ┆ 21         ┆ 42        ┆ 2738      ┆ 电子      ┆ 245560    ┆ 142       │\n",
       "│ 单，保证步 ┆            ┆            ┆           ┆           ┆           ┆           ┆           │\n",
       "│ 频180+     ┆            ┆            ┆           ┆           ┆           ┆           ┆           │\n",
       "│ 车载DJ|出  ┆ 1254162322 ┆ 0          ┆ 0         ┆ 128       ┆ 电子      ┆ 25946     ┆ 132       │\n",
       "│ 行路上一路 ┆ 9          ┆            ┆           ┆           ┆           ┆           ┆           │\n",
       "│ 解乏       ┆            ┆            ┆           ┆           ┆           ┆           ┆           │\n",
       "│ 走秀T台音  ┆ 3073390684 ┆ 0          ┆ 3         ┆ 320       ┆ 电子      ┆ 46942     ┆ 89        │\n",
       "│ 乐|高级卡  ┆            ┆            ┆           ┆           ┆           ┆           ┆           │\n",
       "│ 点         ┆            ┆            ┆           ┆           ┆           ┆           ┆           │\n",
       "│ 走出态度   ┆            ┆            ┆           ┆           ┆           ┆           ┆           │\n",
       "└────────────┴────────────┴────────────┴───────────┴───────────┴───────────┴───────────┴───────────┘"
      ]
     },
     "execution_count": 4,
     "metadata": {},
     "output_type": "execute_result"
    }
   ],
   "source": [
    "PLAYLISTS_DF = pl.read_parquet('../data/playlists.parquet')\n",
    "PLAYLISTS_DF"
   ]
  },
  {
   "cell_type": "code",
   "execution_count": 5,
   "metadata": {},
   "outputs": [
    {
     "data": {
      "text/html": [
       "<div><style>\n",
       ".dataframe > thead > tr,\n",
       ".dataframe > tbody > tr {\n",
       "  text-align: right;\n",
       "  white-space: pre-wrap;\n",
       "}\n",
       "</style>\n",
       "<small>shape: (2_325_125, 9)</small><table border=\"1\" class=\"dataframe\"><thead><tr><th>playlist_id</th><th>track_id</th><th>artist_id</th><th>artist_name</th><th>artist_area</th><th>artist_type</th><th>artist_description</th><th>artist_production</th><th>artist_alias</th></tr><tr><td>i64</td><td>i64</td><td>i64</td><td>str</td><td>i64</td><td>i64</td><td>str</td><td>str</td><td>str</td></tr></thead><tbody><tr><td>8805216200</td><td>19539088</td><td>102057</td><td>&quot;The National&quot;</td><td>96</td><td>3</td><td>&quot;The National主唱Matt Berninger独树…</td><td>&quot;由Aaron Dessner、Bryce Dessner、S…</td><td>&quot;&quot;</td></tr><tr><td>8805216200</td><td>26226630</td><td>105642</td><td>&quot;Yeah Yeah Yeahs&quot;</td><td>96</td><td>3</td><td>&quot;Yeah Yeah Yeahs是来自纽约的一个三人乐队，其成…</td><td>&quot;Yeah Yeah Yeahs一组简单三人组合乐团，就是在K…</td><td>&quot;&quot;</td></tr><tr><td>8805216200</td><td>29041686</td><td>13056845</td><td>&quot;The Voidz&quot;</td><td>96</td><td>3</td><td>&quot;The Voidz （原Julian Casablancas…</td><td>null</td><td>&quot;&quot;</td></tr><tr><td>8805216200</td><td>1379582401</td><td>66359</td><td>&quot;Mando Diao&quot;</td><td>96</td><td>3</td><td>&quot;瑞典Mando Diao，音乐组合，共有五位成员，乐队组成人…</td><td>&quot;&lt;h2&gt;组合简介&lt;/h2&gt;\n",
       "摇滚复古风越刮越烈的今天，涌现出…</td><td>&quot;&quot;</td></tr><tr><td>8805216200</td><td>16435216</td><td>87966</td><td>&quot;Alt-J&quot;</td><td>96</td><td>3</td><td>&quot;        Δ（即Alt-J，三角乐队）组建于2007年…</td><td>&quot;三角乐队组建于2007年的利兹大学，成员有Gwil Sain…</td><td>&quot;&quot;</td></tr><tr><td>&hellip;</td><td>&hellip;</td><td>&hellip;</td><td>&hellip;</td><td>&hellip;</td><td>&hellip;</td><td>&hellip;</td><td>&hellip;</td><td>&hellip;</td></tr><tr><td>3073390684</td><td>35416205</td><td>1116290</td><td>&quot;Win &amp; Woo&quot;</td><td>96</td><td>3</td><td>&quot;乐队成员；Nicholas Winholt &amp; Austin…</td><td>null</td><td>null</td></tr><tr><td>3073390684</td><td>35416205</td><td>99221</td><td>&quot;Pompeya&quot;</td><td>96</td><td>3</td><td>&quot;Pompeya，是一支来自俄罗斯莫斯科的新兴独立摇滚乐队。这…</td><td>null</td><td>&quot;&quot;</td></tr><tr><td>3073390684</td><td>34033274</td><td>98423</td><td>&quot;OMR&quot;</td><td>96</td><td>3</td><td>&quot;芬兰独立音乐人&quot;</td><td>null</td><td>&quot;&quot;</td></tr><tr><td>3073390684</td><td>33211434</td><td>1097125</td><td>&quot;Gianni Kosta&quot;</td><td>96</td><td>1</td><td>&quot;Deep House / Melodic House&quot;</td><td>null</td><td>&quot;&quot;</td></tr><tr><td>3073390684</td><td>26455349</td><td>34469</td><td>&quot;Gaiser&quot;</td><td>96</td><td>1</td><td>&quot;&quot;</td><td>null</td><td>&quot;&quot;</td></tr></tbody></table></div>"
      ],
      "text/plain": [
       "shape: (2_325_125, 9)\n",
       "┌───────────┬───────────┬───────────┬───────────┬───┬───────────┬───────────┬───────────┬──────────┐\n",
       "│ playlist_ ┆ track_id  ┆ artist_id ┆ artist_na ┆ … ┆ artist_ty ┆ artist_de ┆ artist_pr ┆ artist_a │\n",
       "│ id        ┆ ---       ┆ ---       ┆ me        ┆   ┆ pe        ┆ scription ┆ oduction  ┆ lias     │\n",
       "│ ---       ┆ i64       ┆ i64       ┆ ---       ┆   ┆ ---       ┆ ---       ┆ ---       ┆ ---      │\n",
       "│ i64       ┆           ┆           ┆ str       ┆   ┆ i64       ┆ str       ┆ str       ┆ str      │\n",
       "╞═══════════╪═══════════╪═══════════╪═══════════╪═══╪═══════════╪═══════════╪═══════════╪══════════╡\n",
       "│ 880521620 ┆ 19539088  ┆ 102057    ┆ The       ┆ … ┆ 3         ┆ The Natio ┆ 由Aaron   ┆          │\n",
       "│ 0         ┆           ┆           ┆ National  ┆   ┆           ┆ nal主唱Ma ┆ Dessner、 ┆          │\n",
       "│           ┆           ┆           ┆           ┆   ┆           ┆ tt Bernin ┆ Bryce Des ┆          │\n",
       "│           ┆           ┆           ┆           ┆   ┆           ┆ ger独树…  ┆ sner、S…  ┆          │\n",
       "│ 880521620 ┆ 26226630  ┆ 105642    ┆ Yeah Yeah ┆ … ┆ 3         ┆ Yeah Yeah ┆ Yeah Yeah ┆          │\n",
       "│ 0         ┆           ┆           ┆ Yeahs     ┆   ┆           ┆ Yeahs是来 ┆ Yeahs一组 ┆          │\n",
       "│           ┆           ┆           ┆           ┆   ┆           ┆ 自纽约的  ┆ 简单三人  ┆          │\n",
       "│           ┆           ┆           ┆           ┆   ┆           ┆ 一个三人  ┆ 组合乐团  ┆          │\n",
       "│           ┆           ┆           ┆           ┆   ┆           ┆ 乐队，其  ┆ ，就是在K ┆          │\n",
       "│           ┆           ┆           ┆           ┆   ┆           ┆ 成…       ┆ …         ┆          │\n",
       "│ 880521620 ┆ 29041686  ┆ 13056845  ┆ The Voidz ┆ … ┆ 3         ┆ The Voidz ┆ null      ┆          │\n",
       "│ 0         ┆           ┆           ┆           ┆   ┆           ┆ （原Julia ┆           ┆          │\n",
       "│           ┆           ┆           ┆           ┆   ┆           ┆ n Casabla ┆           ┆          │\n",
       "│           ┆           ┆           ┆           ┆   ┆           ┆ ncas…     ┆           ┆          │\n",
       "│ 880521620 ┆ 137958240 ┆ 66359     ┆ Mando     ┆ … ┆ 3         ┆ 瑞典Mando ┆ <h2>组合  ┆          │\n",
       "│ 0         ┆ 1         ┆           ┆ Diao      ┆   ┆           ┆ Diao，音  ┆ 简介</h2> ┆          │\n",
       "│           ┆           ┆           ┆           ┆   ┆           ┆ 乐组合，  ┆ 摇滚复古  ┆          │\n",
       "│           ┆           ┆           ┆           ┆   ┆           ┆ 共有五位  ┆ 风越刮越  ┆          │\n",
       "│           ┆           ┆           ┆           ┆   ┆           ┆ 成员，乐  ┆ 烈的今天  ┆          │\n",
       "│           ┆           ┆           ┆           ┆   ┆           ┆ 队组成人… ┆ ，涌现出… ┆          │\n",
       "│ 880521620 ┆ 16435216  ┆ 87966     ┆ Alt-J     ┆ … ┆ 3         ┆ Δ（即Alt- ┆ 三角乐队  ┆          │\n",
       "│ 0         ┆           ┆           ┆           ┆   ┆           ┆ J，三角乐 ┆ 组建于200 ┆          │\n",
       "│           ┆           ┆           ┆           ┆   ┆           ┆ 队）组建  ┆ 7年的利兹 ┆          │\n",
       "│           ┆           ┆           ┆           ┆   ┆           ┆ 于2007年… ┆ 大学，成  ┆          │\n",
       "│           ┆           ┆           ┆           ┆   ┆           ┆           ┆ 员有Gwil  ┆          │\n",
       "│           ┆           ┆           ┆           ┆   ┆           ┆           ┆ Sain…     ┆          │\n",
       "│ …         ┆ …         ┆ …         ┆ …         ┆ … ┆ …         ┆ …         ┆ …         ┆ …        │\n",
       "│ 307339068 ┆ 35416205  ┆ 1116290   ┆ Win & Woo ┆ … ┆ 3         ┆ 乐队成员  ┆ null      ┆ null     │\n",
       "│ 4         ┆           ┆           ┆           ┆   ┆           ┆ ；Nichola ┆           ┆          │\n",
       "│           ┆           ┆           ┆           ┆   ┆           ┆ s Winholt ┆           ┆          │\n",
       "│           ┆           ┆           ┆           ┆   ┆           ┆ & Austin… ┆           ┆          │\n",
       "│ 307339068 ┆ 35416205  ┆ 99221     ┆ Pompeya   ┆ … ┆ 3         ┆ Pompeya， ┆ null      ┆          │\n",
       "│ 4         ┆           ┆           ┆           ┆   ┆           ┆ 是一支来  ┆           ┆          │\n",
       "│           ┆           ┆           ┆           ┆   ┆           ┆ 自俄罗斯  ┆           ┆          │\n",
       "│           ┆           ┆           ┆           ┆   ┆           ┆ 莫斯科的  ┆           ┆          │\n",
       "│           ┆           ┆           ┆           ┆   ┆           ┆ 新兴独立  ┆           ┆          │\n",
       "│           ┆           ┆           ┆           ┆   ┆           ┆ 摇滚乐队  ┆           ┆          │\n",
       "│           ┆           ┆           ┆           ┆   ┆           ┆ 。这…     ┆           ┆          │\n",
       "│ 307339068 ┆ 34033274  ┆ 98423     ┆ OMR       ┆ … ┆ 3         ┆ 芬兰独立  ┆ null      ┆          │\n",
       "│ 4         ┆           ┆           ┆           ┆   ┆           ┆ 音乐人    ┆           ┆          │\n",
       "│ 307339068 ┆ 33211434  ┆ 1097125   ┆ Gianni    ┆ … ┆ 1         ┆ Deep      ┆ null      ┆          │\n",
       "│ 4         ┆           ┆           ┆ Kosta     ┆   ┆           ┆ House /   ┆           ┆          │\n",
       "│           ┆           ┆           ┆           ┆   ┆           ┆ Melodic   ┆           ┆          │\n",
       "│           ┆           ┆           ┆           ┆   ┆           ┆ House     ┆           ┆          │\n",
       "│ 307339068 ┆ 26455349  ┆ 34469     ┆ Gaiser    ┆ … ┆ 1         ┆           ┆ null      ┆          │\n",
       "│ 4         ┆           ┆           ┆           ┆   ┆           ┆           ┆           ┆          │\n",
       "└───────────┴───────────┴───────────┴───────────┴───┴───────────┴───────────┴───────────┴──────────┘"
      ]
     },
     "execution_count": 5,
     "metadata": {},
     "output_type": "execute_result"
    }
   ],
   "source": [
    "PLAYLIST_ARTISTS_DF = pl.read_parquet('../data/playlist_artists.parquet')\n",
    "PLAYLIST_ARTISTS_DF"
   ]
  }
 ],
 "metadata": {
  "kernelspec": {
   "display_name": "Python 3",
   "language": "python",
   "name": "python3"
  },
  "language_info": {
   "codemirror_mode": {
    "name": "ipython",
    "version": 3
   },
   "file_extension": ".py",
   "mimetype": "text/x-python",
   "name": "python",
   "nbconvert_exporter": "python",
   "pygments_lexer": "ipython3",
   "version": "3.12.6"
  }
 },
 "nbformat": 4,
 "nbformat_minor": 2
}
