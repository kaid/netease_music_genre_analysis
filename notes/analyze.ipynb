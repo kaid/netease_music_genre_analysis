{
 "cells": [
  {
   "cell_type": "code",
   "execution_count": 1,
   "metadata": {},
   "outputs": [],
   "source": [
    "import polars as pl"
   ]
  },
  {
   "cell_type": "code",
   "execution_count": 2,
   "metadata": {},
   "outputs": [
    {
     "data": {
      "text/html": [
       "<div><style>\n",
       ".dataframe > thead > tr,\n",
       ".dataframe > tbody > tr {\n",
       "  text-align: right;\n",
       "  white-space: pre-wrap;\n",
       "}\n",
       "</style>\n",
       "<small>shape: (8_400, 8)</small><table border=\"1\" class=\"dataframe\"><thead><tr><th>playlist_name</th><th>playlist_id</th><th>comment_count</th><th>share_count</th><th>subscribed_count</th><th>categories</th><th>play_count</th><th>track_count</th></tr><tr><td>str</td><td>i64</td><td>i64</td><td>i64</td><td>i64</td><td>str</td><td>i64</td><td>i64</td></tr></thead><tbody><tr><td>&quot;2010s Rock | 在摇滚的浪潮中尽情狂欢&quot;</td><td>8805216200</td><td>1</td><td>0</td><td>167</td><td>&quot;摇滚&quot;</td><td>59270</td><td>100</td></tr><tr><td>&quot;快乐到底 | 在欢快的华语节奏中让快乐DNA动起来&quot;</td><td>8170169684</td><td>31</td><td>102</td><td>9877</td><td>&quot;摇滚&quot;</td><td>2073485</td><td>60</td></tr><tr><td>&quot;她力量 | 手握麦克风的她们势不可挡&quot;</td><td>7461646215</td><td>46</td><td>65</td><td>5326</td><td>&quot;摇滚&quot;</td><td>1700565</td><td>110</td></tr><tr><td>&quot;Alt Japan | 国际视野与霓虹特色的碰撞融合&quot;</td><td>12589725642</td><td>0</td><td>0</td><td>26</td><td>&quot;摇滚&quot;</td><td>3268</td><td>100</td></tr><tr><td>&quot;朋克摇滚 | 简单直接的原始呐喊&quot;</td><td>5461490058</td><td>48</td><td>118</td><td>13647</td><td>&quot;摇滚&quot;</td><td>2703581</td><td>76</td></tr><tr><td>&hellip;</td><td>&hellip;</td><td>&hellip;</td><td>&hellip;</td><td>&hellip;</td><td>&hellip;</td><td>&hellip;</td><td>&hellip;</td></tr><tr><td>&quot;【女声电音】甜蜜与动感的美妙律动&quot;</td><td>2220502985</td><td>481</td><td>1029</td><td>64684</td><td>&quot;电子&quot;</td><td>5120394</td><td>175</td></tr><tr><td>&quot;文科生背书复习抖腿专用bgm&quot;</td><td>483828119</td><td>379</td><td>363</td><td>14533</td><td>&quot;电子&quot;</td><td>1099328</td><td>96</td></tr><tr><td>&quot;跑步专用歌单，保证步频180+&quot;</td><td>422367760</td><td>21</td><td>42</td><td>2738</td><td>&quot;电子&quot;</td><td>245560</td><td>142</td></tr><tr><td>&quot;车载DJ|出行路上一路解乏&quot;</td><td>12541623229</td><td>0</td><td>0</td><td>128</td><td>&quot;电子&quot;</td><td>25946</td><td>132</td></tr><tr><td>&quot;走秀T台音乐|高级卡点 走出态度&quot;</td><td>3073390684</td><td>0</td><td>3</td><td>320</td><td>&quot;电子&quot;</td><td>46942</td><td>89</td></tr></tbody></table></div>"
      ],
      "text/plain": [
       "shape: (8_400, 8)\n",
       "┌────────────┬────────────┬────────────┬───────────┬───────────┬───────────┬───────────┬───────────┐\n",
       "│ playlist_n ┆ playlist_i ┆ comment_co ┆ share_cou ┆ subscribe ┆ categorie ┆ play_coun ┆ track_cou │\n",
       "│ ame        ┆ d          ┆ unt        ┆ nt        ┆ d_count   ┆ s         ┆ t         ┆ nt        │\n",
       "│ ---        ┆ ---        ┆ ---        ┆ ---       ┆ ---       ┆ ---       ┆ ---       ┆ ---       │\n",
       "│ str        ┆ i64        ┆ i64        ┆ i64       ┆ i64       ┆ str       ┆ i64       ┆ i64       │\n",
       "╞════════════╪════════════╪════════════╪═══════════╪═══════════╪═══════════╪═══════════╪═══════════╡\n",
       "│ 2010s Rock ┆ 8805216200 ┆ 1          ┆ 0         ┆ 167       ┆ 摇滚      ┆ 59270     ┆ 100       │\n",
       "│ | 在摇滚的 ┆            ┆            ┆           ┆           ┆           ┆           ┆           │\n",
       "│ 浪潮中尽情 ┆            ┆            ┆           ┆           ┆           ┆           ┆           │\n",
       "│ 狂欢       ┆            ┆            ┆           ┆           ┆           ┆           ┆           │\n",
       "│ 快乐到底 | ┆ 8170169684 ┆ 31         ┆ 102       ┆ 9877      ┆ 摇滚      ┆ 2073485   ┆ 60        │\n",
       "│ 在欢快的华 ┆            ┆            ┆           ┆           ┆           ┆           ┆           │\n",
       "│ 语节奏中让 ┆            ┆            ┆           ┆           ┆           ┆           ┆           │\n",
       "│ 快乐DNA动  ┆            ┆            ┆           ┆           ┆           ┆           ┆           │\n",
       "│ 起来       ┆            ┆            ┆           ┆           ┆           ┆           ┆           │\n",
       "│ 她力量 |   ┆ 7461646215 ┆ 46         ┆ 65        ┆ 5326      ┆ 摇滚      ┆ 1700565   ┆ 110       │\n",
       "│ 手握麦克风 ┆            ┆            ┆           ┆           ┆           ┆           ┆           │\n",
       "│ 的她们势不 ┆            ┆            ┆           ┆           ┆           ┆           ┆           │\n",
       "│ 可挡       ┆            ┆            ┆           ┆           ┆           ┆           ┆           │\n",
       "│ Alt Japan  ┆ 1258972564 ┆ 0          ┆ 0         ┆ 26        ┆ 摇滚      ┆ 3268      ┆ 100       │\n",
       "│ | 国际视野 ┆ 2          ┆            ┆           ┆           ┆           ┆           ┆           │\n",
       "│ 与霓虹特色 ┆            ┆            ┆           ┆           ┆           ┆           ┆           │\n",
       "│ 的碰撞融合 ┆            ┆            ┆           ┆           ┆           ┆           ┆           │\n",
       "│ 朋克摇滚 | ┆ 5461490058 ┆ 48         ┆ 118       ┆ 13647     ┆ 摇滚      ┆ 2703581   ┆ 76        │\n",
       "│ 简单直接的 ┆            ┆            ┆           ┆           ┆           ┆           ┆           │\n",
       "│ 原始呐喊   ┆            ┆            ┆           ┆           ┆           ┆           ┆           │\n",
       "│ …          ┆ …          ┆ …          ┆ …         ┆ …         ┆ …         ┆ …         ┆ …         │\n",
       "│ 【女声电音 ┆ 2220502985 ┆ 481        ┆ 1029      ┆ 64684     ┆ 电子      ┆ 5120394   ┆ 175       │\n",
       "│ 】甜蜜与动 ┆            ┆            ┆           ┆           ┆           ┆           ┆           │\n",
       "│ 感的美妙律 ┆            ┆            ┆           ┆           ┆           ┆           ┆           │\n",
       "│ 动         ┆            ┆            ┆           ┆           ┆           ┆           ┆           │\n",
       "│ 文科生背书 ┆ 483828119  ┆ 379        ┆ 363       ┆ 14533     ┆ 电子      ┆ 1099328   ┆ 96        │\n",
       "│ 复习抖腿专 ┆            ┆            ┆           ┆           ┆           ┆           ┆           │\n",
       "│ 用bgm      ┆            ┆            ┆           ┆           ┆           ┆           ┆           │\n",
       "│ 跑步专用歌 ┆ 422367760  ┆ 21         ┆ 42        ┆ 2738      ┆ 电子      ┆ 245560    ┆ 142       │\n",
       "│ 单，保证步 ┆            ┆            ┆           ┆           ┆           ┆           ┆           │\n",
       "│ 频180+     ┆            ┆            ┆           ┆           ┆           ┆           ┆           │\n",
       "│ 车载DJ|出  ┆ 1254162322 ┆ 0          ┆ 0         ┆ 128       ┆ 电子      ┆ 25946     ┆ 132       │\n",
       "│ 行路上一路 ┆ 9          ┆            ┆           ┆           ┆           ┆           ┆           │\n",
       "│ 解乏       ┆            ┆            ┆           ┆           ┆           ┆           ┆           │\n",
       "│ 走秀T台音  ┆ 3073390684 ┆ 0          ┆ 3         ┆ 320       ┆ 电子      ┆ 46942     ┆ 89        │\n",
       "│ 乐|高级卡  ┆            ┆            ┆           ┆           ┆           ┆           ┆           │\n",
       "│ 点         ┆            ┆            ┆           ┆           ┆           ┆           ┆           │\n",
       "│ 走出态度   ┆            ┆            ┆           ┆           ┆           ┆           ┆           │\n",
       "└────────────┴────────────┴────────────┴───────────┴───────────┴───────────┴───────────┴───────────┘"
      ]
     },
     "execution_count": 2,
     "metadata": {},
     "output_type": "execute_result"
    }
   ],
   "source": [
    "PLAYLISTS_DF = pl.read_parquet('../data/playlists.parquet')\n",
    "PLAYLISTS_DF.write_excel('../data/playlists.xlsx')\n",
    "PLAYLISTS_DF"
   ]
  },
  {
   "cell_type": "code",
   "execution_count": 3,
   "metadata": {},
   "outputs": [
    {
     "data": {
      "text/html": [
       "<div><style>\n",
       ".dataframe > thead > tr,\n",
       ".dataframe > tbody > tr {\n",
       "  text-align: right;\n",
       "  white-space: pre-wrap;\n",
       "}\n",
       "</style>\n",
       "<small>shape: (26_418, 9)</small><table border=\"1\" class=\"dataframe\"><thead><tr><th>playlist_id</th><th>track_id</th><th>artist_id</th><th>artist_name</th><th>artist_area</th><th>artist_type</th><th>artist_description</th><th>artist_production</th><th>artist_alias</th></tr><tr><td>i64</td><td>i64</td><td>i64</td><td>str</td><td>i64</td><td>i64</td><td>str</td><td>str</td><td>str</td></tr></thead><tbody><tr><td>3045117185</td><td>1846346580</td><td>14117998</td><td>&quot;ZYung&quot;</td><td>7</td><td>1</td><td>&quot;接作曲／混音／编曲／有需要合作的请私信&quot;</td><td>&quot;&quot;</td><td>null</td></tr><tr><td>2280640455</td><td>2103360732</td><td>59237938</td><td>&quot;陈某某&quot;</td><td>7</td><td>0</td><td>&quot;&quot;</td><td>&quot;&quot;</td><td>null</td></tr><tr><td>736952762</td><td>1432678734</td><td>34402882</td><td>&quot;Sami&quot;</td><td>7</td><td>1</td><td>&quot;，一位来自新疆乌鲁木齐的年轻吉他歌手。主要成就：2018乌鲁…</td><td>&quot;&quot;</td><td>null</td></tr><tr><td>414964416</td><td>315359</td><td>10111</td><td>&quot;香菇小姐&quot;</td><td>7</td><td>2</td><td>&quot;&quot;</td><td>null</td><td>&quot;VeraQueen&quot;</td></tr><tr><td>2338950813</td><td>1446609415</td><td>30625807</td><td>&quot;姜姗&quot;</td><td>7</td><td>2</td><td>&quot;姜姗，音乐制作人、词曲作者、歌手、职业键盘手。\n",
       "自幼在武汉音…</td><td>&quot;&quot;</td><td>&quot;&quot;</td></tr><tr><td>&hellip;</td><td>&hellip;</td><td>&hellip;</td><td>&hellip;</td><td>&hellip;</td><td>&hellip;</td><td>&hellip;</td><td>&hellip;</td><td>&hellip;</td></tr><tr><td>2751101228</td><td>1888430036</td><td>32431382</td><td>&quot;失联深海MissingDepth&quot;</td><td>7</td><td>3</td><td>&quot;失联深海MissingDepth，一支来自成都的电子流行乐队…</td><td>&quot;&quot;</td><td>null</td></tr><tr><td>9201358503</td><td>2149460516</td><td>47058186</td><td>&quot;小瑞&quot;</td><td>7</td><td>1</td><td>&quot;电子音乐制作人/DJ\n",
       "\n",
       "代表作品：一笑江湖 (DJ小瑞版)\n",
       "…</td><td>&quot;&quot;</td><td>&quot;&quot;</td></tr><tr><td>7691418334</td><td>2059789916</td><td>29265678</td><td>&quot;不蓝&quot;</td><td>7</td><td>2</td><td>&quot;是一只不蓝不蓝不蓝哒(⁎⁍̴̛ᴗ⁍̴̛⁎)\n",
       "欢迎光临，谢谢喜…</td><td>&quot;&quot;</td><td>null</td></tr><tr><td>12608779000</td><td>147002</td><td>4954</td><td>&quot;眭澔平&quot;</td><td>7</td><td>1</td><td>&quot;眭澔平，男，毕业于台湾大学历史系。身兼记者、作家、歌手、主持…</td><td>&quot;自己以治学的严谨精神，自助旅行最艰苦的方式，自费行脚遍历上百…</td><td>&quot;&quot;</td></tr><tr><td>2474391349</td><td>1374139189</td><td>30477386</td><td>&quot;Elzat&quot;</td><td>7</td><td>1</td><td>&quot;来自新疆克拉玛依，热爱音乐，对自己的音乐梦满怀期待，希望多多…</td><td>&quot;&quot;</td><td>null</td></tr></tbody></table></div>"
      ],
      "text/plain": [
       "shape: (26_418, 9)\n",
       "┌───────────┬───────────┬───────────┬───────────┬───┬───────────┬───────────┬───────────┬──────────┐\n",
       "│ playlist_ ┆ track_id  ┆ artist_id ┆ artist_na ┆ … ┆ artist_ty ┆ artist_de ┆ artist_pr ┆ artist_a │\n",
       "│ id        ┆ ---       ┆ ---       ┆ me        ┆   ┆ pe        ┆ scription ┆ oduction  ┆ lias     │\n",
       "│ ---       ┆ i64       ┆ i64       ┆ ---       ┆   ┆ ---       ┆ ---       ┆ ---       ┆ ---      │\n",
       "│ i64       ┆           ┆           ┆ str       ┆   ┆ i64       ┆ str       ┆ str       ┆ str      │\n",
       "╞═══════════╪═══════════╪═══════════╪═══════════╪═══╪═══════════╪═══════════╪═══════════╪══════════╡\n",
       "│ 304511718 ┆ 184634658 ┆ 14117998  ┆ ZYung     ┆ … ┆ 1         ┆ 接作曲／  ┆           ┆ null     │\n",
       "│ 5         ┆ 0         ┆           ┆           ┆   ┆           ┆ 混音／编  ┆           ┆          │\n",
       "│           ┆           ┆           ┆           ┆   ┆           ┆ 曲／有需  ┆           ┆          │\n",
       "│           ┆           ┆           ┆           ┆   ┆           ┆ 要合作的  ┆           ┆          │\n",
       "│           ┆           ┆           ┆           ┆   ┆           ┆ 请私信    ┆           ┆          │\n",
       "│ 228064045 ┆ 210336073 ┆ 59237938  ┆ 陈某某    ┆ … ┆ 0         ┆           ┆           ┆ null     │\n",
       "│ 5         ┆ 2         ┆           ┆           ┆   ┆           ┆           ┆           ┆          │\n",
       "│ 736952762 ┆ 143267873 ┆ 34402882  ┆ Sami      ┆ … ┆ 1         ┆ ，一位来  ┆           ┆ null     │\n",
       "│           ┆ 4         ┆           ┆           ┆   ┆           ┆ 自新疆乌  ┆           ┆          │\n",
       "│           ┆           ┆           ┆           ┆   ┆           ┆ 鲁木齐的  ┆           ┆          │\n",
       "│           ┆           ┆           ┆           ┆   ┆           ┆ 年轻吉他  ┆           ┆          │\n",
       "│           ┆           ┆           ┆           ┆   ┆           ┆ 歌手。主  ┆           ┆          │\n",
       "│           ┆           ┆           ┆           ┆   ┆           ┆ 要成就：2 ┆           ┆          │\n",
       "│           ┆           ┆           ┆           ┆   ┆           ┆ 018乌鲁…  ┆           ┆          │\n",
       "│ 414964416 ┆ 315359    ┆ 10111     ┆ 香菇小姐  ┆ … ┆ 2         ┆           ┆ null      ┆ VeraQuee │\n",
       "│           ┆           ┆           ┆           ┆   ┆           ┆           ┆           ┆ n        │\n",
       "│ 233895081 ┆ 144660941 ┆ 30625807  ┆ 姜姗      ┆ … ┆ 2         ┆ 姜姗，音  ┆           ┆          │\n",
       "│ 3         ┆ 5         ┆           ┆           ┆   ┆           ┆ 乐制作人  ┆           ┆          │\n",
       "│           ┆           ┆           ┆           ┆   ┆           ┆ 、词曲作  ┆           ┆          │\n",
       "│           ┆           ┆           ┆           ┆   ┆           ┆ 者、歌手  ┆           ┆          │\n",
       "│           ┆           ┆           ┆           ┆   ┆           ┆ 、职业键  ┆           ┆          │\n",
       "│           ┆           ┆           ┆           ┆   ┆           ┆ 盘手。    ┆           ┆          │\n",
       "│           ┆           ┆           ┆           ┆   ┆           ┆ 自幼在武  ┆           ┆          │\n",
       "│           ┆           ┆           ┆           ┆   ┆           ┆ 汉音…     ┆           ┆          │\n",
       "│ …         ┆ …         ┆ …         ┆ …         ┆ … ┆ …         ┆ …         ┆ …         ┆ …        │\n",
       "│ 275110122 ┆ 188843003 ┆ 32431382  ┆ 失联深海M ┆ … ┆ 3         ┆ 失联深海M ┆           ┆ null     │\n",
       "│ 8         ┆ 6         ┆           ┆ issingDep ┆   ┆           ┆ issingDep ┆           ┆          │\n",
       "│           ┆           ┆           ┆ th        ┆   ┆           ┆ th，一支  ┆           ┆          │\n",
       "│           ┆           ┆           ┆           ┆   ┆           ┆ 来自成都  ┆           ┆          │\n",
       "│           ┆           ┆           ┆           ┆   ┆           ┆ 的电子流  ┆           ┆          │\n",
       "│           ┆           ┆           ┆           ┆   ┆           ┆ 行乐队…   ┆           ┆          │\n",
       "│ 920135850 ┆ 214946051 ┆ 47058186  ┆ 小瑞      ┆ … ┆ 1         ┆ 电子音乐  ┆           ┆          │\n",
       "│ 3         ┆ 6         ┆           ┆           ┆   ┆           ┆ 制作人/DJ ┆           ┆          │\n",
       "│           ┆           ┆           ┆           ┆   ┆           ┆           ┆           ┆          │\n",
       "│           ┆           ┆           ┆           ┆   ┆           ┆ 代表作品  ┆           ┆          │\n",
       "│           ┆           ┆           ┆           ┆   ┆           ┆ ：一笑江  ┆           ┆          │\n",
       "│           ┆           ┆           ┆           ┆   ┆           ┆ 湖 (DJ小  ┆           ┆          │\n",
       "│           ┆           ┆           ┆           ┆   ┆           ┆ 瑞版)     ┆           ┆          │\n",
       "│           ┆           ┆           ┆           ┆   ┆           ┆ …         ┆           ┆          │\n",
       "│ 769141833 ┆ 205978991 ┆ 29265678  ┆ 不蓝      ┆ … ┆ 2         ┆ 是一只不  ┆           ┆ null     │\n",
       "│ 4         ┆ 6         ┆           ┆           ┆   ┆           ┆ 蓝不蓝不  ┆           ┆          │\n",
       "│           ┆           ┆           ┆           ┆   ┆           ┆ 蓝哒(⁎⁍̴̛ᴗ⁍̴̛ ┆           ┆          │\n",
       "│           ┆           ┆           ┆           ┆   ┆           ┆ ⁎)        ┆           ┆          │\n",
       "│           ┆           ┆           ┆           ┆   ┆           ┆ 欢迎光临  ┆           ┆          │\n",
       "│           ┆           ┆           ┆           ┆   ┆           ┆ ，谢谢喜… ┆           ┆          │\n",
       "│ 126087790 ┆ 147002    ┆ 4954      ┆ 眭澔平    ┆ … ┆ 1         ┆ 眭澔平，  ┆ 自己以治  ┆          │\n",
       "│ 00        ┆           ┆           ┆           ┆   ┆           ┆ 男，毕业  ┆ 学的严谨  ┆          │\n",
       "│           ┆           ┆           ┆           ┆   ┆           ┆ 于台湾大  ┆ 精神，自  ┆          │\n",
       "│           ┆           ┆           ┆           ┆   ┆           ┆ 学历史系  ┆ 助旅行最  ┆          │\n",
       "│           ┆           ┆           ┆           ┆   ┆           ┆ 。身兼记  ┆ 艰苦的方  ┆          │\n",
       "│           ┆           ┆           ┆           ┆   ┆           ┆ 者、作家  ┆ 式，自费  ┆          │\n",
       "│           ┆           ┆           ┆           ┆   ┆           ┆ 、歌手、  ┆ 行脚遍历  ┆          │\n",
       "│           ┆           ┆           ┆           ┆   ┆           ┆ 主持…     ┆ 上百…     ┆          │\n",
       "│ 247439134 ┆ 137413918 ┆ 30477386  ┆ Elzat     ┆ … ┆ 1         ┆ 来自新疆  ┆           ┆ null     │\n",
       "│ 9         ┆ 9         ┆           ┆           ┆   ┆           ┆ 克拉玛依  ┆           ┆          │\n",
       "│           ┆           ┆           ┆           ┆   ┆           ┆ ，热爱音  ┆           ┆          │\n",
       "│           ┆           ┆           ┆           ┆   ┆           ┆ 乐，对自  ┆           ┆          │\n",
       "│           ┆           ┆           ┆           ┆   ┆           ┆ 己的音乐  ┆           ┆          │\n",
       "│           ┆           ┆           ┆           ┆   ┆           ┆ 梦满怀期  ┆           ┆          │\n",
       "│           ┆           ┆           ┆           ┆   ┆           ┆ 待，希望  ┆           ┆          │\n",
       "│           ┆           ┆           ┆           ┆   ┆           ┆ 多多…     ┆           ┆          │\n",
       "└───────────┴───────────┴───────────┴───────────┴───┴───────────┴───────────┴───────────┴──────────┘"
      ]
     },
     "execution_count": 3,
     "metadata": {},
     "output_type": "execute_result"
    }
   ],
   "source": [
    "CHINESE_ARTISTS_DETAILS_QUERY = (\n",
    "    pl.scan_parquet('../data/playlist_artists.parquet')\n",
    "    .with_columns(pl.col('playlist_id'), pl.col('artist_id'), pl.col('artist_area'))\n",
    "    .filter(pl.col('artist_area') == 7)\n",
    "    .unique(subset=['artist_id'])\n",
    ")\n",
    "CHINESE_ARTISTS_DETAILS_DF = CHINESE_ARTISTS_DETAILS_QUERY.collect()\n",
    "CHINESE_ARTISTS_DETAILS_DF.write_excel('../data/chinese_artists_details.xlsx')\n",
    "CHINESE_ARTISTS_DETAILS_DF\n"
   ]
  },
  {
   "cell_type": "code",
   "execution_count": 4,
   "metadata": {},
   "outputs": [
    {
     "data": {
      "text/html": [
       "<div><style>\n",
       ".dataframe > thead > tr,\n",
       ".dataframe > tbody > tr {\n",
       "  text-align: right;\n",
       "  white-space: pre-wrap;\n",
       "}\n",
       "</style>\n",
       "<small>shape: (1_220_987, 4)</small><table border=\"1\" class=\"dataframe\"><thead><tr><th>playlist_id</th><th>track_id</th><th>artist_id</th><th>artist_area</th></tr><tr><td>i64</td><td>i64</td><td>i64</td><td>i64</td></tr></thead><tbody><tr><td>8170169684</td><td>1406062963</td><td>30110421</td><td>7</td></tr><tr><td>8170169684</td><td>1359818052</td><td>1184074</td><td>7</td></tr><tr><td>8170169684</td><td>33394070</td><td>13191</td><td>7</td></tr><tr><td>8170169684</td><td>542690155</td><td>12111</td><td>7</td></tr><tr><td>8170169684</td><td>574925503</td><td>12029112</td><td>7</td></tr><tr><td>&hellip;</td><td>&hellip;</td><td>&hellip;</td><td>&hellip;</td></tr><tr><td>3073390684</td><td>520588146</td><td>12079186</td><td>7</td></tr><tr><td>3073390684</td><td>1429090683</td><td>34375133</td><td>7</td></tr><tr><td>3073390684</td><td>1376568216</td><td>32676034</td><td>7</td></tr><tr><td>3073390684</td><td>537641885</td><td>1124432</td><td>7</td></tr><tr><td>3073390684</td><td>537641885</td><td>12025193</td><td>7</td></tr></tbody></table></div>"
      ],
      "text/plain": [
       "shape: (1_220_987, 4)\n",
       "┌─────────────┬────────────┬───────────┬─────────────┐\n",
       "│ playlist_id ┆ track_id   ┆ artist_id ┆ artist_area │\n",
       "│ ---         ┆ ---        ┆ ---       ┆ ---         │\n",
       "│ i64         ┆ i64        ┆ i64       ┆ i64         │\n",
       "╞═════════════╪════════════╪═══════════╪═════════════╡\n",
       "│ 8170169684  ┆ 1406062963 ┆ 30110421  ┆ 7           │\n",
       "│ 8170169684  ┆ 1359818052 ┆ 1184074   ┆ 7           │\n",
       "│ 8170169684  ┆ 33394070   ┆ 13191     ┆ 7           │\n",
       "│ 8170169684  ┆ 542690155  ┆ 12111     ┆ 7           │\n",
       "│ 8170169684  ┆ 574925503  ┆ 12029112  ┆ 7           │\n",
       "│ …           ┆ …          ┆ …         ┆ …           │\n",
       "│ 3073390684  ┆ 520588146  ┆ 12079186  ┆ 7           │\n",
       "│ 3073390684  ┆ 1429090683 ┆ 34375133  ┆ 7           │\n",
       "│ 3073390684  ┆ 1376568216 ┆ 32676034  ┆ 7           │\n",
       "│ 3073390684  ┆ 537641885  ┆ 1124432   ┆ 7           │\n",
       "│ 3073390684  ┆ 537641885  ┆ 12025193  ┆ 7           │\n",
       "└─────────────┴────────────┴───────────┴─────────────┘"
      ]
     },
     "execution_count": 4,
     "metadata": {},
     "output_type": "execute_result"
    }
   ],
   "source": [
    "CHINESE_ARTISTS_QUERY = (\n",
    "    pl.scan_parquet('../data/playlist_artists.parquet')\n",
    "    .with_columns(pl.col('playlist_id'), pl.col('artist_id'), pl.col('artist_area'))\n",
    "    .select(pl.col('playlist_id'), pl.col('track_id'), pl.col('artist_id'), pl.col('artist_area'))\n",
    "    .filter(pl.col('artist_area') == 7)\n",
    ")\n",
    "CHINESE_ARTISTS_DF = CHINESE_ARTISTS_QUERY.collect()\n",
    "CHINESE_ARTISTS_DF\n"
   ]
  },
  {
   "cell_type": "code",
   "execution_count": 5,
   "metadata": {},
   "outputs": [
    {
     "data": {
      "text/html": [
       "<div><style>\n",
       ".dataframe > thead > tr,\n",
       ".dataframe > tbody > tr {\n",
       "  text-align: right;\n",
       "  white-space: pre-wrap;\n",
       "}\n",
       "</style>\n",
       "<small>shape: (6_732, 6)</small><table border=\"1\" class=\"dataframe\"><thead><tr><th>playlist_id</th><th>play_count</th><th>comment_count</th><th>share_count</th><th>subscribed_count</th><th>track_count</th></tr><tr><td>i64</td><td>i64</td><td>i64</td><td>i64</td><td>i64</td><td>i64</td></tr></thead><tbody><tr><td>8836383479</td><td>174357</td><td>28</td><td>22</td><td>588</td><td>41</td></tr><tr><td>4723337</td><td>323049</td><td>151</td><td>35</td><td>2199</td><td>53</td></tr><tr><td>9164278723</td><td>25492</td><td>0</td><td>1</td><td>268</td><td>34</td></tr><tr><td>8480382234</td><td>84036</td><td>0</td><td>71</td><td>217</td><td>99</td></tr><tr><td>455435617</td><td>277358</td><td>3</td><td>18</td><td>1040</td><td>122</td></tr><tr><td>&hellip;</td><td>&hellip;</td><td>&hellip;</td><td>&hellip;</td><td>&hellip;</td><td>&hellip;</td></tr><tr><td>914994046</td><td>25123</td><td>6</td><td>3</td><td>54</td><td>1371</td></tr><tr><td>10029136932</td><td>220490</td><td>16</td><td>12</td><td>1359</td><td>146</td></tr><tr><td>12626595535</td><td>4</td><td>0</td><td>0</td><td>0</td><td>56</td></tr><tr><td>9418972088</td><td>5782</td><td>5</td><td>3</td><td>57</td><td>30</td></tr><tr><td>2388995375</td><td>31855</td><td>0</td><td>1</td><td>117</td><td>154</td></tr></tbody></table></div>"
      ],
      "text/plain": [
       "shape: (6_732, 6)\n",
       "┌─────────────┬────────────┬───────────────┬─────────────┬──────────────────┬─────────────┐\n",
       "│ playlist_id ┆ play_count ┆ comment_count ┆ share_count ┆ subscribed_count ┆ track_count │\n",
       "│ ---         ┆ ---        ┆ ---           ┆ ---         ┆ ---              ┆ ---         │\n",
       "│ i64         ┆ i64        ┆ i64           ┆ i64         ┆ i64              ┆ i64         │\n",
       "╞═════════════╪════════════╪═══════════════╪═════════════╪══════════════════╪═════════════╡\n",
       "│ 8836383479  ┆ 174357     ┆ 28            ┆ 22          ┆ 588              ┆ 41          │\n",
       "│ 4723337     ┆ 323049     ┆ 151           ┆ 35          ┆ 2199             ┆ 53          │\n",
       "│ 9164278723  ┆ 25492      ┆ 0             ┆ 1           ┆ 268              ┆ 34          │\n",
       "│ 8480382234  ┆ 84036      ┆ 0             ┆ 71          ┆ 217              ┆ 99          │\n",
       "│ 455435617   ┆ 277358     ┆ 3             ┆ 18          ┆ 1040             ┆ 122         │\n",
       "│ …           ┆ …          ┆ …             ┆ …           ┆ …                ┆ …           │\n",
       "│ 914994046   ┆ 25123      ┆ 6             ┆ 3           ┆ 54               ┆ 1371        │\n",
       "│ 10029136932 ┆ 220490     ┆ 16            ┆ 12          ┆ 1359             ┆ 146         │\n",
       "│ 12626595535 ┆ 4          ┆ 0             ┆ 0           ┆ 0                ┆ 56          │\n",
       "│ 9418972088  ┆ 5782       ┆ 5             ┆ 3           ┆ 57               ┆ 30          │\n",
       "│ 2388995375  ┆ 31855      ┆ 0             ┆ 1           ┆ 117              ┆ 154         │\n",
       "└─────────────┴────────────┴───────────────┴─────────────┴──────────────────┴─────────────┘"
      ]
     },
     "execution_count": 5,
     "metadata": {},
     "output_type": "execute_result"
    }
   ],
   "source": [
    "CHINESE_PLAYLISTS_QUERY = (\n",
    "    PLAYLISTS_DF.lazy()\n",
    "    .join(CHINESE_ARTISTS_DF.lazy(), on='playlist_id', how='left')\n",
    "    .select(pl.col('playlist_id'), pl.col('play_count'), pl.col('comment_count'), pl.col('share_count'), pl.col('subscribed_count'), pl.col('track_count'))\n",
    "    .filter(pl.col('playlist_id').is_in(CHINESE_ARTISTS_DF.get_column('playlist_id')))\n",
    "    .unique(subset=['playlist_id'])\n",
    ")\n",
    "CHINESE_PLAYLISTS_DF = CHINESE_PLAYLISTS_QUERY.collect()\n",
    "CHINESE_PLAYLISTS_DF.write_excel('../data/chinese_playlists.xlsx')\n",
    "CHINESE_PLAYLISTS_DF\n"
   ]
  },
  {
   "cell_type": "code",
   "execution_count": 9,
   "metadata": {},
   "outputs": [
    {
     "data": {
      "text/html": [
       "<div><style>\n",
       ".dataframe > thead > tr,\n",
       ".dataframe > tbody > tr {\n",
       "  text-align: right;\n",
       "  white-space: pre-wrap;\n",
       "}\n",
       "</style>\n",
       "<small>shape: (1, 5)</small><table border=\"1\" class=\"dataframe\"><thead><tr><th>play_count</th><th>comment_count</th><th>share_count</th><th>subscribed_count</th><th>track_count</th></tr><tr><td>i64</td><td>i64</td><td>i64</td><td>i64</td><td>i64</td></tr></thead><tbody><tr><td>10290063236</td><td>581592</td><td>1858071</td><td>99773470</td><td>1367691</td></tr></tbody></table></div>"
      ],
      "text/plain": [
       "shape: (1, 5)\n",
       "┌─────────────┬───────────────┬─────────────┬──────────────────┬─────────────┐\n",
       "│ play_count  ┆ comment_count ┆ share_count ┆ subscribed_count ┆ track_count │\n",
       "│ ---         ┆ ---           ┆ ---         ┆ ---              ┆ ---         │\n",
       "│ i64         ┆ i64           ┆ i64         ┆ i64              ┆ i64         │\n",
       "╞═════════════╪═══════════════╪═════════════╪══════════════════╪═════════════╡\n",
       "│ 10290063236 ┆ 581592        ┆ 1858071     ┆ 99773470         ┆ 1367691     │\n",
       "└─────────────┴───────────────┴─────────────┴──────────────────┴─────────────┘"
      ]
     },
     "execution_count": 9,
     "metadata": {},
     "output_type": "execute_result"
    }
   ],
   "source": [
    "CHINESE_PLAYLIST_INTERACTIONS_DF = CHINESE_PLAYLISTS_DF.select(pl.exclude('playlist_id')).sum()\n",
    "CHINESE_PLAYLIST_INTERACTIONS_DF.write_excel('../data/chinese_playlists_summary.xlsx')\n",
    "CHINESE_PLAYLIST_INTERACTIONS_DF"
   ]
  }
 ],
 "metadata": {
  "kernelspec": {
   "display_name": "Python 3",
   "language": "python",
   "name": "python3"
  },
  "language_info": {
   "codemirror_mode": {
    "name": "ipython",
    "version": 3
   },
   "file_extension": ".py",
   "mimetype": "text/x-python",
   "name": "python",
   "nbconvert_exporter": "python",
   "pygments_lexer": "ipython3",
   "version": "3.12.6"
  }
 },
 "nbformat": 4,
 "nbformat_minor": 2
}
